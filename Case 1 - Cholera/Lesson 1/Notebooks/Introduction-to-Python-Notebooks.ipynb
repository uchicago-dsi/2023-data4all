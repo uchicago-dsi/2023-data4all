{
 "cells": [
  {
   "attachments": {},
   "cell_type": "markdown",
   "id": "02839d01",
   "metadata": {
    "slideshow": {
     "slide_type": "-"
    }
   },
   "source": [
    "# Welcome to Jupyter Notebooks!\n",
    "\n",
    "In this course, we will be using JupyterLab notebooks to practice coding in Python. JupyterLab notebooks provide an interactive way to construct and visualize Python code in one setting. Let's do a walk-through of the notebook environment:\n",
    "\n",
    "When we open a notebook, the notebook runs out of what is called a **kernel**. A kernel is an instance or a *session* in which you may type and run Python code in a shell. JupyterLab Notebooks require a server to run so that the notebook can open on your default browser. Notebooks can be opened from the server, which acts as a virtual computer for the purposes of this course.\n",
    "\n",
    "## Opening and renaming Jupyter Notebooks\n",
    "\n",
    "An example of a workspace in JupyterLab is shown below:\n",
    "\n",
    "- ***Jupyter Notebook***: the space where you can run and visualize Python code\n",
    "- ***Tool Bar***: provides options for managing and modifying the notebook\n",
    "- ***Menu Bar***: provides options for managing and modifying the workspace and notebook\n",
    "\n",
    "<img src=\"https://raw.githubusercontent.com/uchicago-dsi/data4all/refs/heads/published/imgs/JupyterNotebook.png\" width=\"1000\" align=\"center\">\n",
    "\n",
    "If you would like to open another notebook, you can navigate to `File > Open` and a new window will open that automatically navigates to your *current working directory*. Your *current working directory* is the location of the folder in your computer that you are currently in. The current directory is wherever this notebook is housed on your local computer.\n",
    "\n",
    "If you would like to create a new notebook, you can navigate to `File > New Notebook` and select `Python 3 (ipykernel)`. A new notebook will be created in a separate window.\n",
    "\n",
    "\n",
    "\n",
    "\n",
    "<img src=\"https://raw.githubusercontent.com/uchicago-dsi/data4all/refs/heads/published/imgs/new-notebook.gif\" width=\"700\" align=\"center\">\n",
    "\n",
    "> *Creating a new Jupyter Notebook*\n",
    "\n",
    "When creating a new notebook, it we be untitled by default. If you go to `File > Rename...`, you can rename this notebook to whatever you like. You can also click on the name on the top left corner next to the Jupyter logo and rename it from there. \n",
    "\n",
    "\n",
    "****"
   ]
  },
  {
   "attachments": {},
   "cell_type": "markdown",
   "id": "40932d85",
   "metadata": {},
   "source": [
    "## Code and markdown cells\n",
    "\n",
    "In a Python notebook, there are two types of cells: **code** cells and **markdown** cells. \n",
    "\n",
    "### Code cells\n",
    "- Can be executed to perform a certain task and/or give a certain output. \n",
    "- Can also contain *comments*, which are demarcated by a hashtag ( # ). Comments are not executed by the computer, but can be useful for a human reader in understanding the code. \n",
    "\n",
    "\n",
    "### Markdown cells\n",
    "- Used to make human-readable text and graphics (like this cell that you're reading currently). \n",
    "- Utilizes some HTML code elements for modifying text and pictures (see below). \n",
    "- When executed, markdown code renders all text and graphics in a readable form. \n",
    "\n",
    "*Note: Markdown cells and code comments can be great ways to take notes on code and in lectures.*\n",
    "\n",
    "**You can change the type of cell by navigating to the dropdown menu in the toolbar and selecting either** `Code` **or** `Markdown`**.**\n",
    "\n",
    "<img src=\"https://raw.githubusercontent.com/uchicago-dsi/data4all/refs/heads/published/imgs/(3)Code_Markdown.gif\" width=\"700\" align=\"center\">\n",
    "\n",
    "> *Changing between a code and markdown cell*\n",
    "\n",
    "### <u>Examples of each cell type are given below:</u>"
   ]
  },
  {
   "cell_type": "code",
   "execution_count": 1,
   "id": "64f41048",
   "metadata": {},
   "outputs": [],
   "source": [
    "# This is a code cell.\n",
    "# Code cells execute written code that is not commented away by a hashtag\n",
    "# When you run a line that is commented away, the line is skipped over.\n",
    "# Nothing will happen if you run this cell."
   ]
  },
  {
   "cell_type": "markdown",
   "id": "c15a28df",
   "metadata": {},
   "source": [
    "### This is a markdown cell (with a H3 header).\n",
    "\n",
    "> You can find *text*, **links**, <u>photos</u>, etc. in markdown cells. \n",
    "\n",
    "- For more information on markdown features, refer to the **Markdown in Jupyter Notebook Tutorial** by Datacamp <a href=\"https://www.datacamp.com/tutorial/markdown-in-jupyter-notebook\">here</a>.\n",
    "\n",
    "---"
   ]
  },
  {
   "attachments": {},
   "cell_type": "markdown",
   "id": "8dc6244d",
   "metadata": {},
   "source": [
    "## Creating, deleting, and moving cells\n",
    "\n",
    "Adding and deleting cells are important functionalities within Jupyter notebooks. Shown below is the notebook toolbar with options that are important for managing cells and working in the JupyterLab workspace:\n",
    "\n",
    "<img src=\"https://raw.githubusercontent.com/uchicago-dsi/data4all/refs/heads/published/imgs/add-cut-paste-toolbar.png\" width=\"1000\" align=\"center\">\n",
    "\n",
    "> *Icons for adding, deleting, and moving cells*\n",
    "\n",
    "- ***Save***: Save your notebook and create a checkpoint. If you need to revert to the version of the notebook at the last save, go to `File > Revert Notebook to Checkpoint` in the menubar to access this version.\n",
    "- ***Add***: Creates a new cell. The new cell will be added immediated after the current selected cells.\n",
    "- ***Cut***: Takes out selected cell(s) and stores it in the clipboard.\n",
    "- ***Copy***: Copies selected cell(s) to the clipboard. This can be a shortcut for deleting a cell as well.\n",
    "- ***Paste***: Pastes cells from the clipboard immediately after the selected cell(s).\n",
    "- ***Move Up/Down***: Moves the selected cells up and down the notebook.\n",
    "\n",
    "To delete a cell without adding it to the clipboard, navigate to `Edit > Delete Cells`."
   ]
  },
  {
   "attachments": {},
   "cell_type": "markdown",
   "id": "86e12753",
   "metadata": {},
   "source": [
    "****\n",
    "\n",
    "## Running cells\n",
    "\n",
    "To run a selected cell, you can utilize three options when navigating to the `Cell` tab in the menu bar: \n",
    "\n",
    "- The `Run Cells` option will simply run the selected cell(s) and show the output. It will not select the subsequent cell.\n",
    "\n",
    "- The `Run Cells and Select Below` option will run the selected cell(s), show the output, and advance to the next cell. This option can also be done by clicking the *run cell* option within the notebook toolbar. If a subsequent cell does not exist, a new cell is created.\n",
    "\n",
    "- The `Run Cells and Insert Below` option will run the selected cell(s) and show the output, and insert a new cell after.\n",
    "\n",
    "The keyboard shortcuts for these options are displayed next to them in the `Run` tab. It will be extremely useful for you to learn at least one of these shortcuts, particularly the `Run Cells` shortcut.\n",
    "\n",
    "<img src=\"https://raw.githubusercontent.com/uchicago-dsi/data4all/refs/heads/published/imgs/running-cells-options.png\" width=\"400\" align=\"center\">\n",
    "\n",
    "> *Options for running cells and associated keyboard shortcuts (Mac)*\n",
    "\n",
    "****"
   ]
  },
  {
   "attachments": {},
   "cell_type": "markdown",
   "id": "f166216f",
   "metadata": {},
   "source": [
    "## Executing cells and outputs\n",
    "\n",
    "To the left of a code cell, you will see `[ ]:`. Within the brackets, you will see a number when a cell that has been successfully executed. In notebooks, cells can be run out of order, so this number on the side indicates the order in which the cell was executed in the kernel. \n",
    "\n",
    "When there is a blue `In [ ]` next to a cell, the cell is referred to as the *input cell*, and when there is a red `Out [ ]` next to a cell, the cell is referred to as the *output cell*. \n",
    "\n",
    "When a cell has `[*]:` next to it, it means that the cell is currently running or is queued to run. Sometimes, when running code, there will not be a visible output. We will discuss more of this in the later lectures and exercises.\n",
    "\n",
    "<img src=\"https://raw.githubusercontent.com/uchicago-dsi/data4all/refs/heads/published/imgs/input-output-cell.png\" width=\"400\" align=\"center\">\n",
    "\n",
    "> *An executed input and output cell*\n",
    "\n",
    "### Interrupting and restarting the kernel\n",
    "From the menu bar, there are three options for interrupting and restarting the kernel:\n",
    "- `Kernel > Interrupt Kernel` - stops the kernel from continuing to execute the cell that is currently running\n",
    "- `Kernel > Restart` - erases all data, variables and other objects from the session, but keeps the output from the previous session\n",
    "- `Kernel > Restart & Clear Output` - erases all objects in the session and clears the associated output from each cell\n",
    "\n",
    "\n",
    "<img src=\"https://raw.githubusercontent.com/uchicago-dsi/data4all/refs/heads/published/imgs/Kernel-options.png\" width=\"400\" align=\"center\">\n",
    "\n",
    "> *Icons for running cells, interrupting the kernel, and restarting the kernel*\n",
    "\n",
    "****"
   ]
  },
  {
   "cell_type": "markdown",
   "id": "ac954658",
   "metadata": {},
   "source": [
    "### <code style=\"background:#83ebd5;color:black\">Exercise:</code>\n",
    "\n",
    "Create a code cell and a markdown cell below. In the code cell, type a <u>simple</u> arithmetic problem using subtraction or addition, as you would in a calculator, and execute the cell to get the answer as an output. \n",
    "\n",
    "In the markdown cell, type your name, phone number, and home address on SEPARATE LINES. Using the markdown cells above and the *Markdown in Jupyter Notebook Tutorial* guide as a reference, figure out how to bold your name, italicize your phone number, and underline your address.\n",
    "****"
   ]
  }
 ],
 "metadata": {
  "kernelspec": {
   "display_name": "Python 3 (ipykernel)",
   "language": "python",
   "name": "python3"
  },
  "language_info": {
   "codemirror_mode": {
    "name": "ipython",
    "version": 3
   },
   "file_extension": ".py",
   "mimetype": "text/x-python",
   "name": "python",
   "nbconvert_exporter": "python",
   "pygments_lexer": "ipython3",
   "version": "3.9.12"
  }
 },
 "nbformat": 4,
 "nbformat_minor": 5
}
