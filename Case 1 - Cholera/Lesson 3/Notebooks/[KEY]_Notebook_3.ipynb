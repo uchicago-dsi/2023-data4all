{
 "cells": [
  {
   "cell_type": "markdown",
   "id": "47de1152",
   "metadata": {
    "id": "47de1152"
   },
   "source": [
    "# Notebook 3: Exploring the Data II\n",
    "\n",
    "**By the end of this notebook, you should be able to**:\n",
    "- Distinguish outcome and explanatory variables\n",
    "- Explore explanatory variables in Pandas (incl. filter and group)\n",
    "- Understand scatter plots and create one\n",
    "<br>\n",
    "\n",
    "## 3.1: Seeing the Problem in Data\n",
    "\n",
    "In the prior notebook, you started to explore data about the cholera epidemic, and some of you *may* have even come up with your own theories as to why it happened.\n",
    "\n",
    "In this section, we will dig even deeper into our data science toolkit to try to pinpoint how people got infected by cholera.\n",
    "\n",
    "<br>\n",
    "\n",
    "<table><tr>\n",
    "    <td> <img src=\"https://raw.githubusercontent.com/uchicago-dsi/2023-data4all/main/imgs/charlie.jpeg?raw=true\" alt=\"Drawing\" width=\"500\"/> </td>\n",
    "</tr></table>\n",
    "\n",
    "\n",
    "\n",
    "\n",
    "\n",
    "Let's begin by loading the Pandas toolkit for Python and our data set:"
   ]
  },
  {
   "cell_type": "code",
   "execution_count": 1,
   "id": "46bd7798",
   "metadata": {
    "id": "46bd7798"
   },
   "outputs": [],
   "source": [
    "import pandas as pd\n",
    "Outbreak = pd.read_csv(\"https://raw.githubusercontent.com/uchicago-dsi/2023-data4all/main/Datasets/The_Outbreak_of_1849.csv?raw=true\")\n"
   ]
  },
  {
   "cell_type": "markdown",
   "id": "6e9f0e47",
   "metadata": {
    "id": "6e9f0e47"
   },
   "source": [
    "In the previous notebook, we selected `deaths_per_1000` as our ***outcome variable***.\n",
    "\n",
    "\n",
    "In this notebook, we take the next step to develop a **proposed explanation** or ***hypothesis*** for why some people died of cholera and others did not. We will make these explanations measurable with variables called **explanatory variables**.\n",
    "\n",
    "While there should be only one outcome variable, there can be multiple explanatory variables. *Why?* Because explanations often have multiple contributing factors!\n",
    "\n",
    "<br>\n",
    "\n",
    "<table><tr>\n",
    "    <td> <img src=\"https://raw.githubusercontent.com/uchicago-dsi/2023-data4all/main/imgs/math2.jpeg?raw=true\" alt=\"Drawing\" width=\"500\"/> </td>\n",
    "</tr></table>\n",
    "\n",
    "<br>\n",
    "\n",
    "For example, if you want to explain to your parents why you did so well in math class (the outcome variable), you might be able to *explain* it with the number of hours you studied, the amount of sleep you got the night before the test, and even your astrological sign (hey, we're not here to judge!).\n",
    "\n",
    "--------------------\n",
    "\n",
    "<img src=\"https://github.com/uchicago-dsi/2023-data4all/blob/main/imgs/pencil.png?raw=true\" alt=\"Drawing\" align=left width=20px/> **Journal 3A**: Brainstorm\n",
    "    \n",
    "What are up to 3 potential explanations for where people got cholera from? With or without peeking at the data, how would you measure this with explanatory variables for our outcome variable (cholera deaths per 1,000 people)?</font>\n",
    "\n",
    "> Write your answer here!"
   ]
  },
  {
   "cell_type": "code",
   "execution_count": 2,
   "id": "265931fe",
   "metadata": {
    "id": "265931fe"
   },
   "outputs": [
    {
     "name": "stdout",
     "output_type": "stream",
     "text": [
      "\n",
      "*** Potential Explanatory variables *** \n"
     ]
    },
    {
     "data": {
      "text/html": [
       "<div>\n",
       "<style scoped>\n",
       "    .dataframe tbody tr th:only-of-type {\n",
       "        vertical-align: middle;\n",
       "    }\n",
       "\n",
       "    .dataframe tbody tr th {\n",
       "        vertical-align: top;\n",
       "    }\n",
       "\n",
       "    .dataframe thead th {\n",
       "        text-align: right;\n",
       "    }\n",
       "</style>\n",
       "<table border=\"1\" class=\"dataframe\">\n",
       "  <thead>\n",
       "    <tr style=\"text-align: right;\">\n",
       "      <th></th>\n",
       "      <th>district</th>\n",
       "      <th>region</th>\n",
       "      <th>population</th>\n",
       "      <th>area</th>\n",
       "      <th>elevation</th>\n",
       "      <th>number_houses</th>\n",
       "      <th>house_value_average</th>\n",
       "      <th>deaths</th>\n",
       "    </tr>\n",
       "  </thead>\n",
       "  <tbody>\n",
       "  </tbody>\n",
       "</table>\n",
       "</div>"
      ],
      "text/plain": [
       "Empty DataFrame\n",
       "Columns: [district, region, population, area, elevation, number_houses, house_value_average, deaths]\n",
       "Index: []"
      ]
     },
     "execution_count": 2,
     "metadata": {},
     "output_type": "execute_result"
    }
   ],
   "source": [
    "print(\"\\n*** Potential Explanatory variables *** \")\n",
    "Outbreak.head(0)"
   ]
  },
  {
   "cell_type": "code",
   "execution_count": 3,
   "id": "2ee4ffa2",
   "metadata": {
    "id": "2ee4ffa2"
   },
   "outputs": [
    {
     "name": "stdout",
     "output_type": "stream",
     "text": [
      "\n",
      "*** The Outcome variable *** \n"
     ]
    },
    {
     "data": {
      "text/html": [
       "<div>\n",
       "<style scoped>\n",
       "    .dataframe tbody tr th:only-of-type {\n",
       "        vertical-align: middle;\n",
       "    }\n",
       "\n",
       "    .dataframe tbody tr th {\n",
       "        vertical-align: top;\n",
       "    }\n",
       "\n",
       "    .dataframe thead th {\n",
       "        text-align: right;\n",
       "    }\n",
       "</style>\n",
       "<table border=\"1\" class=\"dataframe\">\n",
       "  <thead>\n",
       "    <tr style=\"text-align: right;\">\n",
       "      <th></th>\n",
       "      <th>district</th>\n",
       "      <th>deaths_per_1000</th>\n",
       "    </tr>\n",
       "  </thead>\n",
       "  <tbody>\n",
       "    <tr>\n",
       "      <th>0</th>\n",
       "      <td>Bermondsey</td>\n",
       "      <td>15.250997</td>\n",
       "    </tr>\n",
       "    <tr>\n",
       "      <th>1</th>\n",
       "      <td>Bethnal Green</td>\n",
       "      <td>8.747907</td>\n",
       "    </tr>\n",
       "    <tr>\n",
       "      <th>2</th>\n",
       "      <td>Camberwell</td>\n",
       "      <td>9.219456</td>\n",
       "    </tr>\n",
       "    <tr>\n",
       "      <th>3</th>\n",
       "      <td>Chelsea</td>\n",
       "      <td>4.368743</td>\n",
       "    </tr>\n",
       "    <tr>\n",
       "      <th>4</th>\n",
       "      <td>City of London</td>\n",
       "      <td>3.700923</td>\n",
       "    </tr>\n",
       "  </tbody>\n",
       "</table>\n",
       "</div>"
      ],
      "text/plain": [
       "         district  deaths_per_1000\n",
       "0      Bermondsey        15.250997\n",
       "1   Bethnal Green         8.747907\n",
       "2      Camberwell         9.219456\n",
       "3         Chelsea         4.368743\n",
       "4  City of London         3.700923"
      ]
     },
     "execution_count": 3,
     "metadata": {},
     "output_type": "execute_result"
    }
   ],
   "source": [
    "# Our outcome variable: mortality rate!\n",
    "Outbreak[\"deaths_per_1000\"] = Outbreak['deaths'] / Outbreak['population'] * 1000\n",
    "\n",
    "# And we'll take a peek at the data\n",
    "print(\"\\n*** The Outcome variable *** \")\n",
    "Outbreak[[\"district\", \"deaths_per_1000\"]].head()\n"
   ]
  },
  {
   "cell_type": "markdown",
   "id": "1bfd523f",
   "metadata": {
    "id": "1bfd523f"
   },
   "source": [
    "Our job now is to explore explanatory variables that could potentially explain the mortality rate. While you will soon explore your own ideas, let's together explore one potential explanatory variable -- **Population Density**.\n",
    "\n",
    "Population density is a measure of 'crowded-ness' for geographic areas (like cities!). It is \"people per unit of area\".\n",
    "\n",
    "----------------------\n",
    "\n",
    "<img src=\"https://github.com/uchicago-dsi/2023-data4all/blob/main/imgs/pencil.png?raw=true\" alt=\"Drawing\" align=left width=20px/> <font size=4> **Journal 3B:** Population Density </font>\n",
    "\n",
    "**Why might population density explain why some people get cholera, but not others?**\n",
    "\n",
    "> Write your answer here!\n",
    "\n",
    "-------------------\n",
    "\n",
    "#### Go ahead and add your variable for population density below!"
   ]
  },
  {
   "cell_type": "code",
   "execution_count": 4,
   "id": "11a304b5",
   "metadata": {
    "id": "11a304b5"
   },
   "outputs": [
    {
     "data": {
      "text/html": [
       "<div>\n",
       "<style scoped>\n",
       "    .dataframe tbody tr th:only-of-type {\n",
       "        vertical-align: middle;\n",
       "    }\n",
       "\n",
       "    .dataframe tbody tr th {\n",
       "        vertical-align: top;\n",
       "    }\n",
       "\n",
       "    .dataframe thead th {\n",
       "        text-align: right;\n",
       "    }\n",
       "</style>\n",
       "<table border=\"1\" class=\"dataframe\">\n",
       "  <thead>\n",
       "    <tr style=\"text-align: right;\">\n",
       "      <th></th>\n",
       "      <th>district</th>\n",
       "      <th>region</th>\n",
       "      <th>population</th>\n",
       "      <th>area</th>\n",
       "      <th>elevation</th>\n",
       "      <th>number_houses</th>\n",
       "      <th>house_value_average</th>\n",
       "      <th>deaths</th>\n",
       "      <th>deaths_per_1000</th>\n",
       "      <th>pop_density</th>\n",
       "    </tr>\n",
       "  </thead>\n",
       "  <tbody>\n",
       "    <tr>\n",
       "      <th>0</th>\n",
       "      <td>Bermondsey</td>\n",
       "      <td>South</td>\n",
       "      <td>48128</td>\n",
       "      <td>688</td>\n",
       "      <td>0</td>\n",
       "      <td>5674</td>\n",
       "      <td>18</td>\n",
       "      <td>734</td>\n",
       "      <td>15.250997</td>\n",
       "      <td>69.953488</td>\n",
       "    </tr>\n",
       "    <tr>\n",
       "      <th>1</th>\n",
       "      <td>Bethnal Green</td>\n",
       "      <td>East</td>\n",
       "      <td>90193</td>\n",
       "      <td>760</td>\n",
       "      <td>38</td>\n",
       "      <td>11782</td>\n",
       "      <td>9</td>\n",
       "      <td>789</td>\n",
       "      <td>8.747907</td>\n",
       "      <td>118.675000</td>\n",
       "    </tr>\n",
       "    <tr>\n",
       "      <th>2</th>\n",
       "      <td>Camberwell</td>\n",
       "      <td>South</td>\n",
       "      <td>54667</td>\n",
       "      <td>4342</td>\n",
       "      <td>4</td>\n",
       "      <td>6843</td>\n",
       "      <td>25</td>\n",
       "      <td>504</td>\n",
       "      <td>9.219456</td>\n",
       "      <td>12.590281</td>\n",
       "    </tr>\n",
       "    <tr>\n",
       "      <th>3</th>\n",
       "      <td>Chelsea</td>\n",
       "      <td>West</td>\n",
       "      <td>56538</td>\n",
       "      <td>865</td>\n",
       "      <td>12</td>\n",
       "      <td>5648</td>\n",
       "      <td>29</td>\n",
       "      <td>247</td>\n",
       "      <td>4.368743</td>\n",
       "      <td>65.361850</td>\n",
       "    </tr>\n",
       "    <tr>\n",
       "      <th>4</th>\n",
       "      <td>City of London</td>\n",
       "      <td>Central</td>\n",
       "      <td>55932</td>\n",
       "      <td>434</td>\n",
       "      <td>31</td>\n",
       "      <td>7921</td>\n",
       "      <td>117</td>\n",
       "      <td>207</td>\n",
       "      <td>3.700923</td>\n",
       "      <td>128.875576</td>\n",
       "    </tr>\n",
       "  </tbody>\n",
       "</table>\n",
       "</div>"
      ],
      "text/plain": [
       "         district   region  population  area  elevation  number_houses  \\\n",
       "0      Bermondsey    South       48128   688          0           5674   \n",
       "1   Bethnal Green     East       90193   760         38          11782   \n",
       "2      Camberwell    South       54667  4342          4           6843   \n",
       "3         Chelsea     West       56538   865         12           5648   \n",
       "4  City of London  Central       55932   434         31           7921   \n",
       "\n",
       "   house_value_average  deaths  deaths_per_1000  pop_density  \n",
       "0                   18     734        15.250997    69.953488  \n",
       "1                    9     789         8.747907   118.675000  \n",
       "2                   25     504         9.219456    12.590281  \n",
       "3                   29     247         4.368743    65.361850  \n",
       "4                  117     207         3.700923   128.875576  "
      ]
     },
     "execution_count": 4,
     "metadata": {},
     "output_type": "execute_result"
    }
   ],
   "source": [
    "# Population density\n",
    "Outbreak[\"pop_density\"] = Outbreak['population'] / Outbreak['area']\n",
    "Outbreak.head()\n"
   ]
  },
  {
   "cell_type": "markdown",
   "id": "6761f5ec",
   "metadata": {
    "id": "6761f5ec"
   },
   "source": [
    "**Congratulations, you have created your first explanatory variable!**\n",
    "\n",
    "Now let's dig in to see if we *think* it potentially explains why people get cholera.\n",
    "\n",
    "\n",
    "### How do our data look between geographical regions?\n",
    "\n",
    "To do this, we will add two additional tools to our data science toolbox: **filter** and **groupby**.\n",
    "\n",
    "Filtering is a method for subsetting a dataframe based on a defined criteria. You can filter to get only the rows matching certain criteria. If my data frame about rainfall in US cities is called `df`, then:\n",
    "\n",
    "<br>\n",
    "\n",
    "```\n",
    "heavy_rain_df = df[df[\"inches_of_rain\"] > 10]``` </br>\n",
    "<i>- this code filters all rows where values in the 'inches_of_rain' column is more than 10</i>\n",
    "<br></br>\n",
    "\n",
    "```five_inch_df = df[df[\"inches_of_rain\"] == 5.0]```</br>\n",
    "<i>- this code filters all rows where values in the 'inches_of_rain' column is equal to 5</i>\n",
    "<br></br>\n",
    "\n",
    "```only_chicago_df = df[df[\"city\"] == \"Chicago\"]``` </br>\n",
    "<i>- this code filters all rows where values in the 'city' column is equal to the string \"Chicago\"</i>\n",
    "\n",
    "\n",
    "<br>\n",
    "\n",
    "In the following, let's filter to see how our explanatory variable performs on the \"Central\" region of London.\n",
    "<br>"
   ]
  },
  {
   "cell_type": "code",
   "execution_count": 5,
   "id": "37731504-503d-4d43-b701-c32290cef1b0",
   "metadata": {
    "id": "37731504-503d-4d43-b701-c32290cef1b0"
   },
   "outputs": [],
   "source": [
    "# Make a variable called \"CentralData\" that includes only districts in the Central region.\n",
    "CentralData = Outbreak[(Outbreak['region'] == 'Central')]"
   ]
  },
  {
   "cell_type": "code",
   "execution_count": 6,
   "id": "0bfe9808-61b8-4553-a7a9-d5b2b9f6ac0c",
   "metadata": {
    "id": "0bfe9808-61b8-4553-a7a9-d5b2b9f6ac0c"
   },
   "outputs": [
    {
     "name": "stdout",
     "output_type": "stream",
     "text": [
      "deaths_per_1000      5.021616\n",
      "pop_density        224.601519\n",
      "dtype: float64\n"
     ]
    }
   ],
   "source": [
    "# Now let us compare our outcome (dependent) and (explanatory) independent variable!\n",
    "print(CentralData[[\"deaths_per_1000\", \"pop_density\"]].mean())"
   ]
  },
  {
   "cell_type": "markdown",
   "id": "bc06b0bc",
   "metadata": {
    "id": "bc06b0bc"
   },
   "source": [
    "### Coding exercise!\n",
    "**Repeat the process for the Southern region in the following cell!**"
   ]
  },
  {
   "cell_type": "code",
   "execution_count": 7,
   "id": "88a08343",
   "metadata": {
    "id": "88a08343"
   },
   "outputs": [
    {
     "name": "stdout",
     "output_type": "stream",
     "text": [
      "deaths_per_1000    12.599687\n",
      "pop_density        64.310969\n",
      "dtype: float64\n"
     ]
    }
   ],
   "source": [
    "# Show population density and deaths per 1000 of Southern London.\n",
    "# Put code here.\n",
    "SouthData = Outbreak[(Outbreak['region'] == 'South')]\n",
    "print(SouthData[[\"deaths_per_1000\", \"pop_density\"]].mean())"
   ]
  },
  {
   "cell_type": "markdown",
   "id": "c593471e",
   "metadata": {
    "id": "c593471e"
   },
   "source": [
    "**Groupby**: Pandas gives us an easier way to check every region at once! We can use this to filter on 'aggregates' like 'mean' and 'sum'."
   ]
  },
  {
   "cell_type": "code",
   "execution_count": 8,
   "id": "80a1eb7e",
   "metadata": {
    "id": "80a1eb7e"
   },
   "outputs": [
    {
     "data": {
      "text/html": [
       "<div>\n",
       "<style scoped>\n",
       "    .dataframe tbody tr th:only-of-type {\n",
       "        vertical-align: middle;\n",
       "    }\n",
       "\n",
       "    .dataframe tbody tr th {\n",
       "        vertical-align: top;\n",
       "    }\n",
       "\n",
       "    .dataframe thead th {\n",
       "        text-align: right;\n",
       "    }\n",
       "</style>\n",
       "<table border=\"1\" class=\"dataframe\">\n",
       "  <thead>\n",
       "    <tr style=\"text-align: right;\">\n",
       "      <th></th>\n",
       "      <th>deaths_per_1000</th>\n",
       "      <th>pop_density</th>\n",
       "    </tr>\n",
       "    <tr>\n",
       "      <th>region</th>\n",
       "      <th></th>\n",
       "      <th></th>\n",
       "    </tr>\n",
       "  </thead>\n",
       "  <tbody>\n",
       "    <tr>\n",
       "      <th>Central</th>\n",
       "      <td>5.021616</td>\n",
       "      <td>224.601519</td>\n",
       "    </tr>\n",
       "    <tr>\n",
       "      <th>East</th>\n",
       "      <td>6.326963</td>\n",
       "      <td>131.270224</td>\n",
       "    </tr>\n",
       "    <tr>\n",
       "      <th>North</th>\n",
       "      <td>1.780560</td>\n",
       "      <td>43.330858</td>\n",
       "    </tr>\n",
       "    <tr>\n",
       "      <th>South</th>\n",
       "      <td>12.599687</td>\n",
       "      <td>64.310969</td>\n",
       "    </tr>\n",
       "    <tr>\n",
       "      <th>West</th>\n",
       "      <td>3.298961</td>\n",
       "      <td>86.505475</td>\n",
       "    </tr>\n",
       "  </tbody>\n",
       "</table>\n",
       "</div>"
      ],
      "text/plain": [
       "         deaths_per_1000  pop_density\n",
       "region                               \n",
       "Central         5.021616   224.601519\n",
       "East            6.326963   131.270224\n",
       "North           1.780560    43.330858\n",
       "South          12.599687    64.310969\n",
       "West            3.298961    86.505475"
      ]
     },
     "execution_count": 8,
     "metadata": {},
     "output_type": "execute_result"
    }
   ],
   "source": [
    "# Calculate averages after filtering and compare\n",
    "ByRegion = Outbreak.groupby(\"region\")[[\"deaths_per_1000\", \"pop_density\"]].agg('mean')\n",
    "\n",
    "ByRegion[[\"deaths_per_1000\", \"pop_density\"]]"
   ]
  },
  {
   "cell_type": "markdown",
   "id": "746aa976-1502-4f44-bfa6-74dd8692a1ee",
   "metadata": {
    "id": "746aa976-1502-4f44-bfa6-74dd8692a1ee"
   },
   "source": [
    "<img src=\"https://github.com/uchicago-dsi/2023-data4all/blob/main/imgs/pencil.png?raw=true\" alt=\"Drawing\" align=left width=20px/> <font size=4> **Journal 3C:** Looking for Patterns </font>\n",
    "\n",
    "Look back at the spatial patterns of cholera from the previous notebook. Does population density appear to be correlated with death rates?\n",
    "\n",
    "> Write your answer here!\n",
    "\n",
    "-------------------"
   ]
  },
  {
   "cell_type": "markdown",
   "id": "91f25c32",
   "metadata": {
    "id": "91f25c32"
   },
   "source": [
    "## Scatter plots.\n",
    "\n",
    "A scatter plot uses dots to visualize the relationship between two variables.\n",
    "\n",
    "Scatter plots are especially useful in enabling people to study the relationship between an outcome variable and one of our explanatory variables. You can add a **correlation** line to the scatter plot to measure the strength and direction of the relationship.\n",
    "\n",
    "A correlation is a statistical way to assess if the values of your two variables move together in a linear fashion or not, and how much so.\n",
    "\n",
    "To illustrate, imagine that the graphs below show three kinds of relationships between population density and cholera rates. On the left, a positive correlation means that, as population density increases, so does cholera mortality (the closer to 1, the stronger the relation). With zero correlation, population density is not related to cholera rates. In contrast, with a negative correlation, more densely populated areas have lower rates of cholera deaths (the closer to -1, the stronger the relation).  \n",
    "\n",
    "In this example, correlations are close to 1 for illustration purposes. You’ll see soon that, with real data, relationships are usually weaker.\n",
    "\n",
    "<br>\n",
    "\n",
    "<table><tr>\n",
    "    <td> <img src=\"https://raw.githubusercontent.com/uchicago-dsi/2023-data4all/main/imgs/correlation.png?raw=true\" alt=\"Drawing\" width=\"700\"/> </td>\n",
    "</tr></table>\n",
    "\n",
    "<br>\n",
    "\n",
    "In order to create scatter (and other) plots in Python, data scientists commonly use the `matplotlib` library! We will use another common library called `numpy` to calculate the best-fit line and **another** called `scipy` to calculate the correlation coefficient (R-squared).  "
   ]
  },
  {
   "cell_type": "code",
   "execution_count": 9,
   "id": "e0d37462",
   "metadata": {
    "id": "e0d37462"
   },
   "outputs": [],
   "source": [
    "import numpy as np\n",
    "from matplotlib import pyplot as plt\n",
    "import scipy"
   ]
  },
  {
   "cell_type": "code",
   "execution_count": 27,
   "id": "ce778dae",
   "metadata": {
    "id": "ce778dae"
   },
   "outputs": [
    {
     "data": {
      "image/png": "[encoded data removed]",
      "text/plain": [
       "<Figure size 432x288 with 1 Axes>"
      ]
     },
     "metadata": {
      "needs_background": "light"
     },
     "output_type": "display_data"
    },
    {
     "name": "stdout",
     "output_type": "stream",
     "text": [
      "R-squared: 0.003\n"
     ]
    }
   ],
   "source": [
    "# Generating x and y variables for scatterplot: population density vs. mortality \"\n",
    "\n",
    "x = Outbreak['pop_density']\n",
    "y = Outbreak['deaths_per_1000']\n",
    "\n",
    "# Plot the data points\n",
    "plt.scatter(x, y)\n",
    "\n",
    "# Here we add a 'line of best fit' that helps us visualize potential correlation!\n",
    "m, b = np.polyfit(x, y, 1)\n",
    "# Put the line of best fit on the plot.\n",
    "plt.plot(x, m*x + b)\n",
    "\n",
    "slope, intercept, r_value, p_value, std_err = scipy.stats.linregress(x, y)\n",
    "\n",
    "# Add labeling to the x and y axis, set the  limits of the axis\n",
    "plt.xlabel('Population Density (people per acre)')\n",
    "plt.ylabel('Death Rate (per 1000)')\n",
    "\n",
    "plt.xlim(right = 100)\n",
    "\n",
    "# Reveal the plot.\n",
    "plt.show()\n",
    "\n",
    "# Print the correlation coefficient value.\n",
    "print(f\"R-squared: {r_value**2:.3f}\")"
   ]
  },
  {
   "cell_type": "markdown",
   "id": "2d99cb7e",
   "metadata": {
    "id": "2d99cb7e"
   },
   "source": [
    "### Exercise -- go to the previous cells and explore a total of 4 independent variables. Record what you learn from each in the following table:\n",
    "- note, you will need to edit the Markdown by double clicking in this cell!\n",
    "\n",
    "| Explanatory Variable | Correlation (Pos., Neg. or None) |  R-squared value | Notes |\n",
    "|---|---|---|---|\n",
    "|Pop Density   | None  | 0.003  | No relationship  |\n",
    "| House Value  | Negative |  0.129 | Weak negative relationship  |\n",
    "| Number of Houses | Negative  | 0.017  | Weak negative relationship  |\n",
    "| Elevation | Negative  | 0.233  | Weak negative relationship  |\n",
    "\n",
    "<img src=\"https://github.com/uchicago-dsi/2023-data4all/blob/main/imgs/pencil.png?raw=true\" alt=\"Drawing\" align=left width=20px/> <font size=4>**Journal 3D:** Results of Exploration </font>\n",
    "\n",
    "**Which independent variables are most related to cholera rates, and why?**\n",
    "> Write your answer here!"
   ]
  },
  {
   "cell_type": "markdown",
   "id": "e41a9bca",
   "metadata": {
    "id": "e41a9bca"
   },
   "source": [
    "<img src=\"https://github.com/uchicago-dsi/2023-data4all/blob/main/imgs/pencil.png?raw=true\" alt=\"Drawing\" align=left width=20px/> <font size=4>**Journal 3E:** Reflection </font>\n",
    "\n",
    "At the end of each notebook in Data4All, we will take time to reflect on what we learned! You can write as much or as little as you like, but please answer the following three questions...\n",
    "\n",
    "**What do you understand better after this notebook than before?**\n",
    "> Write your answer here!\n",
    "\n",
    "**Please fill out the Notebook survey here!**\n",
    "> https://forms.gle/54KHEbPGsRxQU3Bh9\n",
    "\n",
    "<br>\n",
    "\n",
    "--------------------------------\n",
    "\n",
    "<br>\n",
    "\n",
    "<img src=\"https://github.com/uchicago-dsi/2023-data4all/blob/main/imgs/save-icon.jpeg?raw=true\" alt=\"Drawing\" align=left width=20px/> <font size=\"4\">     **&ensp;&ensp;&ensp;Last step: save your work!** </font>"
   ]
  },
  {
   "cell_type": "code",
   "execution_count": null,
   "id": "5066c27e",
   "metadata": {
    "id": "5066c27e"
   },
   "outputs": [],
   "source": []
  }
 ],
 "metadata": {
  "colab": {
   "provenance": []
  },
  "kernelspec": {
   "display_name": "Python 3 (ipykernel)",
   "language": "python",
   "name": "python3"
  },
  "language_info": {
   "codemirror_mode": {
    "name": "ipython",
    "version": 3
   },
   "file_extension": ".py",
   "mimetype": "text/x-python",
   "name": "python",
   "nbconvert_exporter": "python",
   "pygments_lexer": "ipython3",
   "version": "3.9.12"
  }
 },
 "nbformat": 4,
 "nbformat_minor": 5
}
