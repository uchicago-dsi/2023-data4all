{
 "cells": [
  {
   "cell_type": "markdown",
   "id": "d06644cc-54ae-4730-8c61-86915220aa27",
   "metadata": {
    "id": "d06644cc-54ae-4730-8c61-86915220aa27"
   },
   "source": [
    "## Notebook 4: Was there a home court advantage in the basketball bubble?\n",
    "-------------------------\n",
    "<br>\n",
    "\n",
    "**By the end of this notebook, you should be able to**:\n",
    "- Answer the question whether there is a home court advantage in basketball\n",
    "- Simulate the null hypothesis\n",
    "- Visualize the results of the simulation\n",
    "- Calculate and interpret a p-value\n",
    "<br><br>\n",
    "\n",
    "\n",
    "During the early days of the Covid-19 pandemic, the NBA tried to finish out the season by hosting 88 games at Disney World where players and staff were quarantined and tested regularly. They tried to recreate the atmosphere of a home court advantage for a team selected randomly as the \"home\" team for each game using virtual cheerleaders, fans and sounds from the team's real home court.\n",
    "\n",
    "If there was no home court advantage, we would expect the home team to win about 44 of the 88 games (50%). Suprisingly, the \"home\" team won 49 of the 88 games (56%). Does this suggest that there was a real home court advantage?\n",
    "\n",
    "<br>\n",
    "\n",
    "<img src = \"https://raw.githubusercontent.com/uchicago-dsi/2023-data4all/main/imgs/basketball.png?raw=true\" width=\"600\"/>\n",
    "\n",
    "\n",
    "\n"
   ]
  },
  {
   "cell_type": "markdown",
   "id": "9db75323-f258-4fcd-863b-22e26f146c80",
   "metadata": {
    "id": "9db75323-f258-4fcd-863b-22e26f146c80"
   },
   "source": [
    "<img src=\"https://github.com/uchicago-dsi/2023-data4all/blob/main/imgs/pencil.png?raw=true\" alt=\"Drawing\" align=left width= 20px/> <font size=4> **Journal 4a_A:** What do you think?</font>\n",
    "\n",
    "**Based on the information provided, do you think there was a home court advantage for the \"home\" teams in the bubble? Why or why not?**\n",
    "\n",
    "> Write your answer here!"
   ]
  },
  {
   "cell_type": "code",
   "execution_count": 1,
   "id": "7f9edef2-1954-4db5-9386-42f664268b48",
   "metadata": {
    "id": "7f9edef2-1954-4db5-9386-42f664268b48"
   },
   "outputs": [],
   "source": [
    "# Load our Pandas, NumPy and Matplotlib data science libraries\n",
    "\n",
    "import pandas as pd\n",
    "import numpy as np\n",
    "from matplotlib import pyplot as plt"
   ]
  },
  {
   "cell_type": "markdown",
   "id": "ec89c1ae-95a5-4304-b388-a4d033634541",
   "metadata": {
    "id": "ec89c1ae-95a5-4304-b388-a4d033634541"
   },
   "source": [
    "## Simulating One Season\n",
    "\n",
    "We approach this question assuming that the null hypothesis is true: **there was not a home court advantage**. In this world, there is no difference between playing at home or away -- the home team has a 50% chance of winning each game. Let's simulate one 88-game season in a world where there is no home court advantage."
   ]
  },
  {
   "cell_type": "code",
   "execution_count": 2,
   "id": "6636d165-ff14-4320-b617-2a437836f03e",
   "metadata": {
    "id": "6636d165-ff14-4320-b617-2a437836f03e",
    "outputId": "072ebf1a-cac1-44c9-8e14-1731fd2b085a"
   },
   "outputs": [
    {
     "data": {
      "text/plain": [
       "array(['loss', 'loss', 'win', 'loss', 'win', 'loss', 'loss', 'loss',\n",
       "       'win', 'win', 'win', 'loss', 'loss', 'win', 'loss', 'win', 'win',\n",
       "       'loss', 'loss', 'loss', 'win', 'win', 'loss', 'win', 'loss', 'win',\n",
       "       'win', 'loss', 'win', 'win', 'win', 'win', 'loss', 'win', 'win',\n",
       "       'loss', 'loss', 'win', 'loss', 'win', 'win', 'win', 'win', 'win',\n",
       "       'loss', 'win', 'win', 'win', 'loss', 'loss', 'win', 'loss', 'loss',\n",
       "       'loss', 'loss', 'loss', 'win', 'win', 'loss', 'loss', 'loss',\n",
       "       'win', 'win', 'win', 'loss', 'loss', 'loss', 'loss', 'win', 'loss',\n",
       "       'win', 'win', 'loss', 'win', 'loss', 'loss', 'win', 'win', 'win',\n",
       "       'loss', 'win', 'win', 'win', 'win', 'win', 'win', 'loss', 'loss'],\n",
       "      dtype='<U4')"
      ]
     },
     "execution_count": 2,
     "metadata": {},
     "output_type": "execute_result"
    }
   ],
   "source": [
    "# Set the number of games in a season\n",
    "number_games = 88\n",
    "\n",
    "# Give the choices that will be randomly picked from\n",
    "game = np.array(['win', 'loss'])\n",
    "\n",
    "# Store the results in the 'season' list (called an array in NumPy)\n",
    "season = np.random.choice(game, number_games)\n",
    "season"
   ]
  },
  {
   "cell_type": "code",
   "execution_count": 3,
   "id": "b1fac616-e6e9-46ee-824c-eaff7918f549",
   "metadata": {
    "id": "b1fac616-e6e9-46ee-824c-eaff7918f549",
    "outputId": "bbaebb20-5957-4cf9-a75a-2584b6405cd4"
   },
   "outputs": [
    {
     "data": {
      "text/plain": [
       "47"
      ]
     },
     "execution_count": 3,
     "metadata": {},
     "output_type": "execute_result"
    }
   ],
   "source": [
    "# Count the number of times \"win\" appears in the season list\n",
    "home_team_wins = np.count_nonzero(season == 'win')\n",
    "home_team_wins"
   ]
  },
  {
   "cell_type": "markdown",
   "id": "c8998bb3-80f6-4b9f-9ac4-6f9574b650b2",
   "metadata": {
    "id": "c8998bb3-80f6-4b9f-9ac4-6f9574b650b2"
   },
   "source": [
    "## Visualizing the Data\n",
    "\n",
    "We can visualize the results of our simulation using a **histogram** which divides the possible outcomes (the number of games won by the home team) into \"bins\". Each bin counts the number of seasons with a certain number of home team wins and represents it as a bar. It looks like a bar graph, but the key difference is that histograms chart quantitative (number) data, bar graphs chart categorical data (like months of the year)."
   ]
  },
  {
   "cell_type": "code",
   "execution_count": 4,
   "id": "3b38872b-3566-4886-acf3-bc83001f4635",
   "metadata": {
    "id": "3b38872b-3566-4886-acf3-bc83001f4635"
   },
   "outputs": [
    {
     "data": {
      "image/png": "[encoded data removed]",
      "text/plain": [
       "<Figure size 432x288 with 1 Axes>"
      ]
     },
     "metadata": {
      "needs_background": "light"
     },
     "output_type": "display_data"
    }
   ],
   "source": [
    "# The following takes the code from above that simulates one season and puts it into a function so we can use it multiple times\n",
    "def one_season():\n",
    "    season = np.random.choice(game, number_games)\n",
    "    home_team_wins = np.count_nonzero(season == 'win')\n",
    "    return home_team_wins\n",
    "\n",
    "# Create the histogram from the results of running the one_season function:\n",
    "plt.hist(one_season(), bins = np.arange(20, 70, 1), edgecolor='black', linewidth=0.5) # x-axis has range 20-70 and the width of a bin is 1\n",
    "plt.xlabel('Number of Home Team Wins')\n",
    "plt.ylabel('Freqency')\n",
    "plt.show()"
   ]
  },
  {
   "cell_type": "markdown",
   "id": "241b4fce-5cda-48d6-8908-c92d6ade468f",
   "metadata": {
    "id": "241b4fce-5cda-48d6-8908-c92d6ade468f"
   },
   "source": [
    "## Simulating Multiple Seasons\n",
    "\n",
    "The above histogram isn't very helpful because it only shows the results of one season. Simulations are most useful when you run them many times.\n",
    "We need to simulate the results of many seasons to get an idea of the probability of the home team winning a certain number of games, 49 in this case. The following code uses a `for loop` to run the simulation however many times we want. Change the code to simulate the following, ending with 10,000 seasons:\n",
    "\n",
    "- 5 seasons\n",
    "- 20 seasons\n",
    "- 100 seasons\n",
    "- 1,000 seasons\n",
    "- 10,000 seasons"
   ]
  },
  {
   "cell_type": "code",
   "execution_count": 6,
   "id": "8e171339-7111-411f-9887-31967e551a0b",
   "metadata": {
    "id": "8e171339-7111-411f-9887-31967e551a0b"
   },
   "outputs": [
    {
     "data": {
      "image/png": "[encoded data removed]",
      "text/plain": [
       "<Figure size 432x288 with 1 Axes>"
      ]
     },
     "metadata": {
      "needs_background": "light"
     },
     "output_type": "display_data"
    }
   ],
   "source": [
    "num_seasons = 5   # number of seasons\n",
    "\n",
    "simulation = np.array([]) # empty list to hold results of each season\n",
    "\n",
    "for i in np.arange(num_seasons):   # repeat the process num_seasons times\n",
    "    new_value = one_season()  # simulate 88 games using the one_season function\n",
    "    simulation = np.append(simulation, new_value) # add the new season to the list\n",
    "\n",
    "# Create the histogram\n",
    "fig, ax = plt.subplots()\n",
    "plt.hist(simulation, np.arange(20, 70, 1), edgecolor='black', linewidth=0.5)\n",
    "ax.axvline(49, color='r') # Draw a vertical line at 49 games (what was observed)\n",
    "plt.xlabel('Number of Home Team Wins')\n",
    "plt.ylabel('Freqency')\n",
    "plt.show()\n"
   ]
  },
  {
   "cell_type": "markdown",
   "id": "5a3b80f2-9f2d-4076-b597-44f20cd4a174",
   "metadata": {
    "id": "5a3b80f2-9f2d-4076-b597-44f20cd4a174"
   },
   "source": [
    "<img src=\"https://github.com/uchicago-dsi/2023-data4all/blob/main/imgs/pencil.png?raw=true\" alt=\"Drawing\" align=left width= 20px/> <font size=4> **Journal 4a_B:** Recognizing Patterns</font>\n",
    "\n",
    "**As you simulate more seasons, what do you notice about the shape of the histogram?**\n",
    "\n",
    "> Write your answer here!"
   ]
  },
  {
   "cell_type": "markdown",
   "id": "6ecf4911-6927-419b-831d-1962b57e08cc",
   "metadata": {
    "id": "6ecf4911-6927-419b-831d-1962b57e08cc",
    "tags": []
   },
   "source": [
    "## What are the chances?\n",
    "\n",
    "<img src = \"https://raw.githubusercontent.com/uchicago-dsi/2023-data4all/main/imgs/dice.jpeg?raw=true\" width=\"700\"/>\n",
    "\n",
    "Now that we have data that simulates 10,000 seasons where there is no home court advantage for the home team, we can answer our question:\n",
    "\n",
    "**In a world where there is no home court advantage, what are the chances that home teams win 49 or more of the 88 games played?**\n"
   ]
  },
  {
   "cell_type": "markdown",
   "id": "a99a543b-0bb7-4798-a3e8-eac3f15be854",
   "metadata": {
    "id": "a99a543b-0bb7-4798-a3e8-eac3f15be854"
   },
   "source": [
    "<img src=\"https://github.com/uchicago-dsi/2023-data4all/blob/main/imgs/pencil.png?raw=true\" alt=\"Drawing\" align=left width= 20px/> <font size=4> **Journal 4a_C:** Is your mind changed?</font>\n",
    "\n",
    "**Based on what you see in the histogram, does the home team winning 49 of the 88 games in a world where there is no home court advantage seem out of the ordinary?**\n",
    "\n",
    "> Write your answer here!"
   ]
  },
  {
   "cell_type": "markdown",
   "id": "03ecf411-4453-4594-868b-60888c3e47b0",
   "metadata": {
    "id": "03ecf411-4453-4594-868b-60888c3e47b0"
   },
   "source": [
    "### Analysis\n",
    "\n",
    "As you have seen before, data scientists really like to express things in numbers as opposed to words. Therefore we need to answer our driving question with a number:\n",
    "\n",
    "**In a world where there is no home court advantage, what are the chances that the home teams wins 49 or more of the 88 games played?**\n",
    "\n",
    "*In other words:*\n",
    "\n",
    "**What percentage of the simulated seasons had the home team winning 49 or more of the 88 games?**\n",
    "\n",
    "Complete the following code to perform this calculation."
   ]
  },
  {
   "cell_type": "code",
   "execution_count": 7,
   "id": "eb464a55-8287-4294-9e4d-e02c6afa5e70",
   "metadata": {
    "id": "eb464a55-8287-4294-9e4d-e02c6afa5e70",
    "outputId": "33b655f5-baa6-45d8-c90b-dc9b849d33d1"
   },
   "outputs": [
    {
     "name": "stdout",
     "output_type": "stream",
     "text": [
      "Proportion of wins: 0.2000\n",
      "Percentage of wins: 20.00%\n"
     ]
    }
   ],
   "source": [
    "count = np.count_nonzero(simulation >= 49) # Count the number of simulated seasons where the home team won 49 or more of the games\n",
    "prop_wins = count/len(simulation) # Calculate the proportion of seasons with 49 or more wins\n",
    "perc_wins = prop_wins * 100 # Turn the proportion into a percentage\n",
    "print(f\"Proportion of wins: {prop_wins:.4f}\\nPercentage of wins: {perc_wins:.2f}%\")"
   ]
  },
  {
   "cell_type": "markdown",
   "id": "4c5590fc-60a3-45bd-899e-d2162e58fa6c",
   "metadata": {
    "id": "4c5590fc-60a3-45bd-899e-d2162e58fa6c"
   },
   "source": [
    "These values are important. They tell us the chances of the home team winning 49 or more games in a world where there is no home court advantage. Data scientists have a special name for this: the **p-value**. It can be expressed as a proportion, like `0.15` or a percentage like `15%`."
   ]
  },
  {
   "cell_type": "markdown",
   "id": "618cc2cd-918d-4be2-b34d-a3be63572ec8",
   "metadata": {
    "id": "618cc2cd-918d-4be2-b34d-a3be63572ec8"
   },
   "source": [
    "### How much is too much?\n",
    "\n",
    "Remember, we are looking to see if there is enough evidence to **reject** the null hypothesis. The p-value you calculated is how often the home team is expected to win 49 or more games in an 88 game season **in a world where there is no home court advantage**. In order to reject the null hypoothesis, we need to determine if winning 49 games is out of the ordinary. In other words, is winning 49 games really that unusual in a world where there is no home court advantage?"
   ]
  },
  {
   "cell_type": "markdown",
   "id": "9f2922de-940a-4fe8-83ec-62a8a224a274",
   "metadata": {
    "id": "9f2922de-940a-4fe8-83ec-62a8a224a274"
   },
   "source": [
    "<img src=\"https://github.com/uchicago-dsi/2023-data4all/blob/main/imgs/pencil.png?raw=true\" alt=\"Drawing\" align=left width= 20px/> <font size=4> **Journal 4a_D:** Interpreting the p-value</font>\n",
    "\n",
    "**Based on your p-value, do you think there is enough evidence to reject the null hypothesis?**\n",
    "\n",
    "> Write your answer here!"
   ]
  },
  {
   "cell_type": "markdown",
   "id": "d9481423-f6d3-4855-8c3b-9b0eae750b5e",
   "metadata": {
    "id": "d9481423-f6d3-4855-8c3b-9b0eae750b5e"
   },
   "source": [
    "--------------------------------\n",
    "\n",
    "<br>\n",
    "\n",
    "<img src=\"https://github.com/uchicago-dsi/2023-data4all/blob/main/imgs/save-icon.jpeg?raw=true\" alt=\"Drawing\" align=left width=20px/> <font size=\"4\">     **&ensp;&ensp;&ensp;Last step: save your work!** </font>"
   ]
  },
  {
   "cell_type": "markdown",
   "id": "df9b84bf-3a36-4d33-b1e7-a7656941a5aa",
   "metadata": {
    "id": "df9b84bf-3a36-4d33-b1e7-a7656941a5aa"
   },
   "source": [
    "This notebook is based on an example originally developed by https://skewthescript.org/ (Lesson 7.4). We highly recommend their AP Stats and Algebra lessons!\n",
    "\n",
    "<img src = \"https://raw.githubusercontent.com/uchicago-dsi/2023-data4all/main/imgs/skew_the_script.png?raw=true\" width=\"200\"/>"
   ]
  },
  {
   "cell_type": "code",
   "execution_count": null,
   "id": "TzBjyMbNakyG",
   "metadata": {
    "id": "TzBjyMbNakyG"
   },
   "outputs": [],
   "source": []
  }
 ],
 "metadata": {
  "colab": {
   "provenance": []
  },
  "kernelspec": {
   "display_name": "Python 3 (ipykernel)",
   "language": "python",
   "name": "python3"
  },
  "language_info": {
   "codemirror_mode": {
    "name": "ipython",
    "version": 3
   },
   "file_extension": ".py",
   "mimetype": "text/x-python",
   "name": "python",
   "nbconvert_exporter": "python",
   "pygments_lexer": "ipython3",
   "version": "3.9.12"
  }
 },
 "nbformat": 4,
 "nbformat_minor": 5
}
