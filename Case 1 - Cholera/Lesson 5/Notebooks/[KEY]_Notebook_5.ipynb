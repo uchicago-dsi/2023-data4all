{
 "cells": [
  {
   "cell_type": "markdown",
   "id": "e84c125e-ad5a-41fa-a652-0e685f440dc6",
   "metadata": {
    "id": "e84c125e-ad5a-41fa-a652-0e685f440dc6"
   },
   "source": [
    "# Notebook 5: Testing Explanations\n",
    "\n",
    "__In this notebook__, we will test two proposed explanations (hypotheses) of how cholera spread in London: through the **air** and through the **water**. That is, we will show that some hypotheses are likely a better fit for the data and are harder to reject, in a ***statistically significant*** way, than others.\n",
    "\n",
    "<br>\n",
    "\n",
    "<table><tr>\n",
    "    <td> <img src=\"https://raw.githubusercontent.com/uchicago-dsi/2023-data4all/main/imgs/santa_p.png?raw=true\" alt=\"Drawing\" width=\"500\"> </td>\n",
    "</tr></table>\n",
    "\n",
    "**By the end of this notebook, you should be able to**:\n",
    "- Understand the idea of how experiments can be conducted with data.\n",
    "- Create and interpret contingency tables and the $Chi^2$ statistic.\n",
    "- Apply this to two theories about how cholera was transmitted.\n",
    "- Create data visualizations.\n",
    "<br><br>"
   ]
  },
  {
   "cell_type": "markdown",
   "id": "c8feb0c2-efad-4bf8-a579-e104c0eac191",
   "metadata": {
    "id": "c8feb0c2-efad-4bf8-a579-e104c0eac191"
   },
   "source": [
    "## 4.1: The Data\n",
    "\n",
    "Let's begin by loading our data...\n",
    "\n",
    "\n",
    "This data looks different than our prior data. This is because people in charge of the city’s sewers went door-to-door in a neighborhood hard hit by cholera deaths in 1849 to assess the claim that toxic fumes from its sewers were causing the deaths. They collected data from 1,852 households in total, described as follows:\n",
    "- **house_ID:** unique indetifier for house\n",
    "- **deaths:** the total deaths in that house\n",
    "- **dis_sewers:** distance (in meters) from the nearest sewer (1 meter = 3.3 feet)\n",
    "- **dis_bspump:** distance (in meters) from the Broad St pump"
   ]
  },
  {
   "cell_type": "code",
   "execution_count": 25,
   "id": "bb8573e9",
   "metadata": {
    "id": "bb8573e9"
   },
   "outputs": [
    {
     "data": {
      "text/html": [
       "<div>\n",
       "<style scoped>\n",
       "    .dataframe tbody tr th:only-of-type {\n",
       "        vertical-align: middle;\n",
       "    }\n",
       "\n",
       "    .dataframe tbody tr th {\n",
       "        vertical-align: top;\n",
       "    }\n",
       "\n",
       "    .dataframe thead th {\n",
       "        text-align: right;\n",
       "    }\n",
       "</style>\n",
       "<table border=\"1\" class=\"dataframe\">\n",
       "  <thead>\n",
       "    <tr style=\"text-align: right;\">\n",
       "      <th></th>\n",
       "      <th>house_ID</th>\n",
       "      <th>deaths</th>\n",
       "      <th>dis_sewers</th>\n",
       "      <th>dis_bspump</th>\n",
       "    </tr>\n",
       "  </thead>\n",
       "  <tbody>\n",
       "    <tr>\n",
       "      <th>0</th>\n",
       "      <td>1</td>\n",
       "      <td>0</td>\n",
       "      <td>10.08</td>\n",
       "      <td>125.00</td>\n",
       "    </tr>\n",
       "    <tr>\n",
       "      <th>1</th>\n",
       "      <td>2</td>\n",
       "      <td>1</td>\n",
       "      <td>14.64</td>\n",
       "      <td>119.94</td>\n",
       "    </tr>\n",
       "    <tr>\n",
       "      <th>2</th>\n",
       "      <td>3</td>\n",
       "      <td>0</td>\n",
       "      <td>18.47</td>\n",
       "      <td>116.27</td>\n",
       "    </tr>\n",
       "    <tr>\n",
       "      <th>3</th>\n",
       "      <td>4</td>\n",
       "      <td>0</td>\n",
       "      <td>22.98</td>\n",
       "      <td>112.56</td>\n",
       "    </tr>\n",
       "    <tr>\n",
       "      <th>4</th>\n",
       "      <td>5</td>\n",
       "      <td>0</td>\n",
       "      <td>27.47</td>\n",
       "      <td>109.10</td>\n",
       "    </tr>\n",
       "    <tr>\n",
       "      <th>...</th>\n",
       "      <td>...</td>\n",
       "      <td>...</td>\n",
       "      <td>...</td>\n",
       "      <td>...</td>\n",
       "    </tr>\n",
       "    <tr>\n",
       "      <th>1847</th>\n",
       "      <td>1848</td>\n",
       "      <td>0</td>\n",
       "      <td>22.11</td>\n",
       "      <td>191.88</td>\n",
       "    </tr>\n",
       "    <tr>\n",
       "      <th>1848</th>\n",
       "      <td>1849</td>\n",
       "      <td>0</td>\n",
       "      <td>4.75</td>\n",
       "      <td>197.54</td>\n",
       "    </tr>\n",
       "    <tr>\n",
       "      <th>1849</th>\n",
       "      <td>1850</td>\n",
       "      <td>0</td>\n",
       "      <td>18.06</td>\n",
       "      <td>261.31</td>\n",
       "    </tr>\n",
       "    <tr>\n",
       "      <th>1850</th>\n",
       "      <td>1851</td>\n",
       "      <td>0</td>\n",
       "      <td>6.00</td>\n",
       "      <td>286.47</td>\n",
       "    </tr>\n",
       "    <tr>\n",
       "      <th>1851</th>\n",
       "      <td>1852</td>\n",
       "      <td>0</td>\n",
       "      <td>7.33</td>\n",
       "      <td>299.40</td>\n",
       "    </tr>\n",
       "  </tbody>\n",
       "</table>\n",
       "<p>1852 rows × 4 columns</p>\n",
       "</div>"
      ],
      "text/plain": [
       "      house_ID  deaths  dis_sewers  dis_bspump\n",
       "0            1       0       10.08      125.00\n",
       "1            2       1       14.64      119.94\n",
       "2            3       0       18.47      116.27\n",
       "3            4       0       22.98      112.56\n",
       "4            5       0       27.47      109.10\n",
       "...        ...     ...         ...         ...\n",
       "1847      1848       0       22.11      191.88\n",
       "1848      1849       0        4.75      197.54\n",
       "1849      1850       0       18.06      261.31\n",
       "1850      1851       0        6.00      286.47\n",
       "1851      1852       0        7.33      299.40\n",
       "\n",
       "[1852 rows x 4 columns]"
      ]
     },
     "execution_count": 25,
     "metadata": {},
     "output_type": "execute_result"
    }
   ],
   "source": [
    "import pandas as pd\n",
    "from matplotlib import pyplot as plt\n",
    "\n",
    "house_data = pd.read_csv('https://raw.githubusercontent.com/uchicago-dsi/2023-data4all/main/Datasets/deaths_by_house.csv?raw=true')\n",
    "house_data"
   ]
  },
  {
   "cell_type": "markdown",
   "id": "fe62cf54",
   "metadata": {
    "id": "fe62cf54"
   },
   "source": [
    "## 4.2: Introducing the Idea of Data Experiments\n",
    "\n",
    "There are many ways to do an experiment with data. The methods we use depend on a variety of things like the question we are trying to answer, what kind of data we are working with and how we hope to communicate our findings.\n",
    "\n",
    "You used correlations before to explore whether there is a positive, negative (or no!) relationship between two variables. You also assessed how strong this relationship is and whether it is statistically significant. In this case, the variables had values that ranged across a whole continuum of numbers, i.e. they were **continuously distributed**. For example, population density could be a number anywhere between 0 and infinity.\n",
    "\n",
    "What you’ll do in this notebook is convert continuously distributed data into **categorical data** (categories). Why? Because you can  group your data in a way that allows you to compare the outcome in one group to that of another group, contingent on a condition. The condition will be the potential explanation you want to explore across groups to see if it has a differential impact.\n",
    "\n",
    "In the case of the airborne and waterborne theories, we can separate people into groups. The exposed group (people living near a sewer or the water pump) is often called an **impact** or **treatment group** while the unexposed group (people living far from a sewer or the water pump) is the **control group**. When testing the waterborne theory, we will group people based on whether they lived near a sewer or not and whether they died of cholera or not. When testing the airborne theory, we will group people based on whether they lived near a certain water pump or not and whether they died of cholera or not.\n",
    "\n",
    "This will result in four groups for each proposed explanation. We will place them in a 2x2 **contingency table** (also called a ***two-way table*** or ***crosstab***). We will have to test each explanation separately. In all, that means four contingency tables: an expected (null) and an observed table for each of the two hypotheses."
   ]
  },
  {
   "cell_type": "markdown",
   "id": "f87b5612",
   "metadata": {
    "id": "f87b5612"
   },
   "source": [
    "## 4.3: The Airborne Hypothesis: Investigating the Sewers\n",
    "\n",
    "Now that we've talked about how to set up our experiment, let's apply this to the cholera data!\n",
    "\n",
    "The first theory we will explore assumes that cholera is airborne and that people get infected by inhaling toxic fumes from localized sources. In this case, the source is fumes emitted from sewage lines through gully holes (man holes).\n",
    "\n",
    "\n",
    "<br>\n",
    "\n",
    "<table><tr>\n",
    "    <td> <img src=\"https://raw.githubusercontent.com/uchicago-dsi/2023-data4all/main/imgs/sewer.jpeg?raw=true\" alt=\"Drawing\" width=\"500\"> </td>\n",
    "</tr></table>\n",
    "\n",
    "If this theory was true, then closer proximity to sewers would make it more likely to inhale the toxic air and contract cholera. For simplicity, let us assume someone is 'close' to a sewer if they less than 40 feet (12.2 meters) from one... otherwise they are 'far'. Unfortunately, we don't have the total number of people in each house. That data was not collected.  Therefore, we will have to count houses instead of people.\n",
    "\n",
    "A contingency table simply shows the total frequencies of each variable, with one variable appearing on each axis. It technically does not matter, but a common approach is to put the independent (explanatory) variable on the x-axis and the dependent (outcome) variable on the y-axis.  While there *are* libraries to create contingency tables for us, we will build some ourselves in order to better understand it! (and, well, to get some more practice with PANDAS!!)\n",
    "\n",
    "Here is the contingency table for the airborne theory with totals along the bottom and right side:\n",
    "\n",
    "<br>\n",
    "\n",
    "<table><tr>\n",
    "    <td> <img src=\"https://raw.githubusercontent.com/uchicago-dsi/2023-data4all/main/imgs/sewer_contingency.jpeg?raw=true\" alt=\"Drawing\" width=\"700\"> </td>\n",
    "</tr></table>\n"
   ]
  },
  {
   "cell_type": "markdown",
   "id": "57e784bd",
   "metadata": {
    "id": "57e784bd"
   },
   "source": [
    "<img src=\"https://github.com/uchicago-dsi/2023-data4all/blob/main/imgs/pencil.png?raw=true\" alt=\"Drawing\" align=left width=20px/> <font size=4> **Journal 4a:** Predictions</font>\n",
    "\n",
    "**We will test the airborne theory by assuming the null hypothesis is true. If there was support for the alternative hypothesis (There is an association between proximity to a sewer and cholera), what do you predict the observed contingency table will look like? In other words, which of the four groups will have more counts than others?**\n",
    "\n",
    "> Write your answer here!\n"
   ]
  },
  {
   "cell_type": "markdown",
   "id": "3f5f3688-1761-4f87-a5b7-19dd3457374a",
   "metadata": {
    "id": "3f5f3688-1761-4f87-a5b7-19dd3457374a"
   },
   "source": [
    "### Calculating Values\n",
    "\n",
    "A lot of data will go into our contingency tables. Let's calculate that data and put into variables. This includes:\n",
    "\n",
    "- total houses with a death from cholera: `total_deaths`\n",
    "- total houses without a death from cholera: `total_nondeaths`\n",
    "- total houses near a sewer: `total_near_sewer`\n",
    "- total houses far from a sewer: `total_far_sewer`\n",
    "- total number of houses: `total_houses`"
   ]
  },
  {
   "cell_type": "code",
   "execution_count": 26,
   "id": "f8891275-4789-4592-8185-d4ffdc883f0d",
   "metadata": {
    "id": "f8891275-4789-4592-8185-d4ffdc883f0d"
   },
   "outputs": [
    {
     "name": "stdout",
     "output_type": "stream",
     "text": [
      "Number of houses with a death: 369\n",
      "Number of houses without a death: 1483\n",
      "Number of houses near a sewer: 553\n",
      "Number of houses far from a sewer: 1299\n",
      "Total number of houses: 1852\n"
     ]
    }
   ],
   "source": [
    "total_deaths = sum(house_data['deaths'] >= 1)\n",
    "\n",
    "total_nondeaths = sum(house_data['deaths'] == 0)\n",
    "\n",
    "total_near_sewer = sum(house_data['dis_sewers'] <= 12.2)\n",
    "\n",
    "total_far_sewer = sum(house_data['dis_sewers'] > 12.2)\n",
    "\n",
    "total_houses = total_near_sewer + total_far_sewer\n",
    "\n",
    "\n",
    "print(f\"Number of houses with a death: {total_deaths}\")\n",
    "print(f\"Number of houses without a death: {total_nondeaths}\")\n",
    "print(f\"Number of houses near a sewer: {total_near_sewer}\")\n",
    "print(f\"Number of houses far from a sewer: {total_far_sewer}\")\n",
    "print(f\"Total number of houses: {total_houses}\")"
   ]
  },
  {
   "cell_type": "markdown",
   "id": "0f3f46c4-74de-4089-b5e6-c1203e617940",
   "metadata": {
    "id": "0f3f46c4-74de-4089-b5e6-c1203e617940"
   },
   "source": [
    "### Building the Null Contingency Table\n",
    "\n",
    "We now need to construct the contingency table under the null hypothesis. In other words, **how many deaths and nondeaths we would expect if there was no relationship between sewers and cholera**.\n",
    "\n",
    "Remember, we can automate the calculation for each of the four groups using the following equation:\n",
    "\n",
    "$$expected \\ value = {row \\ total \\times column \\ total \\over grand \\ total}$$\n",
    "\n"
   ]
  },
  {
   "cell_type": "code",
   "execution_count": 27,
   "id": "7a013a2b-e4f0-4d51-8600-bede2cf5fc49",
   "metadata": {
    "id": "7a013a2b-e4f0-4d51-8600-bede2cf5fc49",
    "tags": []
   },
   "outputs": [
    {
     "name": "stdout",
     "output_type": "stream",
     "text": [
      "Expected houses near a sewer with a death: 110\n",
      "Expected houses near a sewer without a death: 442\n",
      "Expected houses far from a sewer with a death: 258\n",
      "Expected houses far from a sewer without a death: 1040\n"
     ]
    }
   ],
   "source": [
    "# round() turns our calculation into a whole number\n",
    "\n",
    "exp_near_sewer_deaths = int(total_deaths * total_near_sewer / total_houses)\n",
    "\n",
    "exp_near_sewer_nondeaths = int(total_nondeaths * total_near_sewer / total_houses)\n",
    "\n",
    "exp_far_sewer_deaths = int(total_deaths * total_far_sewer / total_houses)\n",
    "\n",
    "exp_far_sewer_nondeaths = int(total_nondeaths * total_far_sewer / total_houses)\n",
    "\n",
    "print(f\"Expected houses near a sewer with a death: {exp_near_sewer_deaths}\")\n",
    "print(f\"Expected houses near a sewer without a death: {exp_near_sewer_nondeaths}\")\n",
    "print(f\"Expected houses far from a sewer with a death: {exp_far_sewer_deaths}\")\n",
    "print(f\"Expected houses far from a sewer without a death: {exp_far_sewer_nondeaths}\")\n"
   ]
  },
  {
   "cell_type": "code",
   "execution_count": 28,
   "id": "f9757cb4-a292-45c9-8c6c-a05db7a8686e",
   "metadata": {
    "id": "f9757cb4-a292-45c9-8c6c-a05db7a8686e"
   },
   "outputs": [],
   "source": [
    "# Now let's put it all together into a contingency table with the following shape!\n",
    "\n",
    "def visualize_contingency_table(contingency_table, top_labels, left_labels):\n",
    "    # print(\"\\t\\t  Close | Far \")\n",
    "    print('{:<15s} {:<15s} {:<20s}'.format(top_labels[0], top_labels[1], top_labels[2]))\n",
    "\n",
    "    i = 0\n",
    "    for line in contingency_table:\n",
    "        print('{:<15s} {:<15d} {:<20d}'.format(left_labels[i], contingency_table[i][0], contingency_table[i][1]))\n",
    "        i += 1\n",
    "\n",
    "top_labels = [\" \", \"Near Sewer\", \"Far from Sewer\"]\n",
    "left_labels = [\"Deaths\", \"Non Deaths\", \"Total\"]\n"
   ]
  },
  {
   "cell_type": "code",
   "execution_count": 29,
   "id": "7e0d3741-5d84-45b3-bac6-a688d53c97f1",
   "metadata": {
    "id": "7e0d3741-5d84-45b3-bac6-a688d53c97f1"
   },
   "outputs": [
    {
     "name": "stdout",
     "output_type": "stream",
     "text": [
      "Expected (Null) Contingency Table:\n",
      "                Near Sewer      Far from Sewer      \n",
      "Deaths          110             258                 \n",
      "Non Deaths      442             1040                \n"
     ]
    }
   ],
   "source": [
    "contingency_table = [\n",
    "    [exp_near_sewer_deaths, exp_far_sewer_deaths],\n",
    "    [exp_near_sewer_nondeaths, exp_far_sewer_nondeaths]\n",
    "]\n",
    "\n",
    "print(\"Expected (Null) Contingency Table:\")\n",
    "visualize_contingency_table(contingency_table, top_labels, left_labels)"
   ]
  },
  {
   "cell_type": "markdown",
   "id": "52db55db-a854-4a23-99ff-0eb077400893",
   "metadata": {
    "id": "52db55db-a854-4a23-99ff-0eb077400893"
   },
   "source": [
    "### Building the Observed Contingency Table"
   ]
  },
  {
   "cell_type": "code",
   "execution_count": 30,
   "id": "377c2121-8d29-4e24-be91-56d60fed6ac2",
   "metadata": {
    "id": "377c2121-8d29-4e24-be91-56d60fed6ac2",
    "tags": []
   },
   "outputs": [
    {
     "name": "stdout",
     "output_type": "stream",
     "text": [
      "Observed houses near a sewer with a death: 117\n",
      "Observed houses near a sewer without a death: 436\n",
      "Observed houses far from a sewer with a death: 252\n",
      "Observed houses far from a sewer without a death: 1047\n"
     ]
    }
   ],
   "source": [
    "obs_near_sewer_deaths = sum((house_data.deaths != 0) & (house_data.dis_sewers <= 12.2))\n",
    "\n",
    "obs_near_sewer_nondeaths = sum((house_data.deaths == 0) & (house_data.dis_sewers <= 12.2))\n",
    "\n",
    "obs_far_sewer_deaths = sum((house_data.deaths != 0) & (house_data.dis_sewers > 12.2))\n",
    "\n",
    "obs_far_sewer_nondeaths = sum((house_data.deaths == 0) & (house_data.dis_sewers > 12.2))\n",
    "\n",
    "print(f\"Observed houses near a sewer with a death: {obs_near_sewer_deaths}\")\n",
    "print(f\"Observed houses near a sewer without a death: {obs_near_sewer_nondeaths}\")\n",
    "print(f\"Observed houses far from a sewer with a death: {obs_far_sewer_deaths}\")\n",
    "print(f\"Observed houses far from a sewer without a death: {obs_far_sewer_nondeaths}\")\n"
   ]
  },
  {
   "cell_type": "code",
   "execution_count": 31,
   "id": "617ffca5-407f-4009-bfdb-aeba2ba1d2e2",
   "metadata": {
    "id": "617ffca5-407f-4009-bfdb-aeba2ba1d2e2"
   },
   "outputs": [
    {
     "name": "stdout",
     "output_type": "stream",
     "text": [
      "Observed Contingency Table:\n",
      "                Near Sewer      Far from Sewer      \n",
      "Deaths          117             252                 \n",
      "Non Deaths      436             1047                \n"
     ]
    }
   ],
   "source": [
    "contingency_table = [\n",
    "    [obs_near_sewer_deaths, obs_far_sewer_deaths],\n",
    "    [obs_near_sewer_nondeaths, obs_far_sewer_nondeaths]\n",
    "] \n",
    "\n",
    "print(\"Observed Contingency Table:\")\n",
    "visualize_contingency_table(contingency_table, top_labels, left_labels)"
   ]
  },
  {
   "cell_type": "markdown",
   "id": "50feaa97-8ca1-41b8-a557-c8904c74fc77",
   "metadata": {
    "id": "50feaa97-8ca1-41b8-a557-c8904c74fc77"
   },
   "source": [
    "<img src=\"https://github.com/uchicago-dsi/2023-data4all/blob/main/imgs/pencil.png?raw=true\" alt=\"Drawing\" align=left width=20px/> <font size=4> **Journal 4b:** On First Glance</font>\n",
    "\n",
    "**Does there appear to be a significant difference between the expected number under the null hypothesis and the observed numbers?**\n",
    "\n",
    "> Write your answer here!\n"
   ]
  },
  {
   "cell_type": "markdown",
   "id": "513fc2a9-717a-4d44-9ca9-0563f19b4a80",
   "metadata": {
    "id": "513fc2a9-717a-4d44-9ca9-0563f19b4a80"
   },
   "source": [
    "### Calculating the p-value\n",
    "\n",
    "There is a difference between the expected and observed contingency tables, but is it large enough to reject the null hypothesis and accept the alternative that living close to a sewer is associated with higher cholera rates? The p-value will tell us the chance that the difference we are seeing could be due to random chance."
   ]
  },
  {
   "cell_type": "code",
   "execution_count": 32,
   "id": "c80e3d79",
   "metadata": {
    "id": "c80e3d79",
    "tags": []
   },
   "outputs": [
    {
     "name": "stdout",
     "output_type": "stream",
     "text": [
      "p-value: 0.42\n"
     ]
    }
   ],
   "source": [
    "# Import the scipy library for running Chi-square evaluations\n",
    "from scipy.stats import chi2_contingency\n",
    "\n",
    "# ... when doing data science in Python, it is common convention to use\n",
    "#.    \"_\" characters to mark variables whose values we don't need.\n",
    "_, p_value, _, _ = chi2_contingency(contingency_table)\n",
    "print(f\"p-value: {p_value:.2f}\")"
   ]
  },
  {
   "cell_type": "markdown",
   "id": "c1fe1ceb-afec-4484-ad1a-ef593df8067b",
   "metadata": {
    "id": "c1fe1ceb-afec-4484-ad1a-ef593df8067b"
   },
   "source": [
    "<img src=\"https://github.com/uchicago-dsi/2023-data4all/blob/main/imgs/pencil.png?raw=true\" alt=\"Drawing\" align=left width=20px/> <font size=4> **Journal 4c:** Interpreting p-value for $Chi^2$ test: Sewers</font>\n",
    "\n",
    "**Based on the p-value of your $Chi^2$ test, can you reject the null hypothesis (there is no association between living close to a sewer and dying from cholera) and accept the alternative (there is an association between living close to a sewer and dying from cholera)?**\n",
    "\n",
    "> Write your answer here!"
   ]
  },
  {
   "cell_type": "markdown",
   "id": "a2551238-67de-437c-9f1e-68c26ca5b6bd",
   "metadata": {
    "id": "a2551238-67de-437c-9f1e-68c26ca5b6bd"
   },
   "source": [
    "### Visualizing the Data\n",
    "\n",
    "An important part of data science is not only determining statistical significance of hypotheses, but also communicating your findings to people without a statistics background.\n",
    "\n",
    "Imagine reading a newspaper headline (like below) that says ’The p-value was below 0.05’... the average person does not know what this means! Visualizing your results is an important step in convincing others that your evidence is compelling! In the following, we create (and interpret) data visualizations that make it easier to understand your statistical results.\n",
    "\n",
    "<br>\n",
    "\n",
    "<table><tr>\n",
    "    <td> <img src=\"https://raw.githubusercontent.com/uchicago-dsi/2023-data4all/main/imgs/funny_paper.jpeg?raw=true\" alt=\"Drawing\" width=\"500\"> </td>\n",
    "</tr></table>\n",
    "\n",
    "\n",
    "\n",
    "We first explore a **histogram** -- a type of bar graph used to show differences in the frequency (or count) of various events. (In this case, the events are deaths and non-deaths of people close and far from the sewer)."
   ]
  },
  {
   "cell_type": "code",
   "execution_count": 33,
   "id": "68c3c091",
   "metadata": {
    "id": "68c3c091"
   },
   "outputs": [
    {
     "data": {
      "image/png": "[encoded data removed]",
      "text/plain": [
       "<Figure size 432x288 with 1 Axes>"
      ]
     },
     "metadata": {
      "needs_background": "light"
     },
     "output_type": "display_data"
    }
   ],
   "source": [
    "# Histogram\n",
    "\n",
    "# Let's calculate the percentages of deaths that are 'close' versus 'far'.\n",
    "#    Close Deaths + Far Deaths should sum to 1!\n",
    "# (then we can do the same for non-death graphs)\n",
    "obs_near_sewer_deaths_pct = obs_near_sewer_deaths / (obs_near_sewer_deaths + obs_far_sewer_deaths) * 100\n",
    "obs_far_sewer_deaths_pct = 100 - obs_near_sewer_deaths_pct\n",
    "\n",
    "obs_near_sewer_nondeaths_pct = obs_near_sewer_nondeaths / (obs_near_sewer_nondeaths + obs_far_sewer_nondeaths) * 100\n",
    "obs_far_sewer_nondeaths_pct = 100 - obs_near_sewer_nondeaths_pct\n",
    "\n",
    "\n",
    "\n",
    "# 1. Let's first view the CLOSE deaths vs nondeaths.\n",
    "plt.bar(x=['Deaths Near', 'Deaths Far'],\n",
    "        height=[obs_near_sewer_deaths_pct, obs_far_sewer_deaths_pct], color='purple', label='Deaths')\n",
    "\n",
    "# 2. Let's first view the FAR deaths vs nondeaths.\n",
    "plt.bar(x=['Nondeaths Near', 'Nondeaths Far'],\n",
    "        height=[obs_near_sewer_nondeaths_pct, obs_far_sewer_nondeaths_pct], color='gold', label='Nondeaths')\n",
    "plt.ylim((0,100))\n",
    "plt.ylabel(\"Percentage of Deaths or Nondeaths\")\n",
    "plt.title(\"Deaths and Nondeaths (Close and Far from Sewer)\")\n",
    "plt.legend()\n",
    "plt.show()"
   ]
  },
  {
   "cell_type": "markdown",
   "id": "36d6bbd3",
   "metadata": {
    "id": "36d6bbd3"
   },
   "source": [
    "<img src=\"https://github.com/uchicago-dsi/2023-data4all/blob/main/imgs/pencil.png?raw=true\" alt=\"Drawing\" align=left width=20px/> <font size=4> **Journal 4d:** The 3 Second Rule</font>\n",
    "\n",
    "The 3 Second Rule states that one gets 3 seconds to grab someone's attention and flag the take-home point of a data visualization: https://stephanieevergreen.com/the-3-second-rule/\n",
    "\n",
    "**What does the histogram communicate to you? Does it follow the 3 Second Rule?**\n",
    "\n",
    "> Write your answer here!\n",
    "\n",
    "<br>\n",
    "\n"
   ]
  },
  {
   "cell_type": "markdown",
   "id": "6b992896",
   "metadata": {
    "id": "6b992896"
   },
   "source": [
    "## 4.4: The Waterborne Hypothesis: Investigating the Broad Street Pump"
   ]
  },
  {
   "cell_type": "markdown",
   "id": "1af67128",
   "metadata": {
    "id": "1af67128"
   },
   "source": [
    "Next, we want to explore the theory that cholera was transmitted through contaminated water. At the time, John Snow guessed that the water of a particular pump, the Broad Street Pump (BSP, for short), might have carried pieces of poisonous sewage. Was this true?\n",
    "\n",
    "<br>\n",
    "\n",
    "<table><tr>\n",
    "    <td> <img src=\"https://raw.githubusercontent.com/uchicago-dsi/2023-data4all/main/imgs/pump3.jpeg?raw=true\" alt=\"Drawing\" width=\"500\"> </td>\n",
    "</tr></table>\n",
    "\n",
    "If this theory was true, then closer proximity to the Broad Street Pump would make it more likely to drink its contaminated water and contract cholera. For simplicity, let us assume someone is 'close' to the Broad Street Pump if they are at most 460 feet (140 meters) from it... otherwise they are 'far'. Unfortunately, we don't have the total number of people in each house. That data was not collected.  Therefore, we will have to count houses instead of people.\n",
    "\n",
    "A contingency table simply shows the total frequencies of each variable, with one variable appearing on each axis. It technically does not matter, but a common approach is to put the independent (explanatory) variable on the x-axis and the dependent (outcome) variable on the y-axis. While there are libraries to create contingency tables for us, we will build some ourselves in order to better understand it! (and, well, to get some more practice with PANDAS!!)\n",
    "\n",
    "Here is the contingency table for the waterborne theory with totals along the bottom and right side:\n",
    "\n",
    "<br>\n",
    "\n",
    "<table><tr>\n",
    "    <td> <img src=\"https://raw.githubusercontent.com/uchicago-dsi/2023-data4all/main/imgs/pump_contingency.jpeg?raw=true\" alt=\"Drawing\" width=\"700\"> </td>\n",
    "</tr></table>"
   ]
  },
  {
   "cell_type": "markdown",
   "id": "a47470e5-d308-4158-8654-48133a33378e",
   "metadata": {
    "id": "a47470e5-d308-4158-8654-48133a33378e"
   },
   "source": [
    "<img src=\"https://github.com/uchicago-dsi/2023-data4all/blob/main/imgs/pencil.png?raw=true\" alt=\"Drawing\" align=left width=20px/> <font size=4> **Journal 4e:** Predictions</font>\n",
    "\n",
    "**We will test the waterborne theory by assuming the null hypothesis is true. If there was support for the alternative hypothesis (There is an association between proximity to the Broad Street Pump and cholera), what do you predict the observed contingency table will look like? In other words, which of the four groups will have more counts than others?**\n",
    "\n",
    "> Write your answer here!\n"
   ]
  },
  {
   "cell_type": "markdown",
   "id": "0c97cc87-da2e-4756-9b83-20c49399c2d8",
   "metadata": {
    "id": "0c97cc87-da2e-4756-9b83-20c49399c2d8"
   },
   "source": [
    "### Calculating Values\n",
    "\n",
    "A lot of data will go into our contingency tables. Let's calculate that data and put into variables. This includes:\n",
    "\n",
    "- total houses with a death from cholera: `total_deaths`\n",
    "- total houses without a death from cholera: `total_nondeaths`\n",
    "- total houses near the Broad Street Pump: `total_near_pump`\n",
    "- total houses far from the Broad Street Pump: `total_far_pump`\n",
    "- total number of houses: `total_houses`"
   ]
  },
  {
   "cell_type": "code",
   "execution_count": 34,
   "id": "8c746a54-758b-4407-83c3-929ad7be3e38",
   "metadata": {
    "id": "8c746a54-758b-4407-83c3-929ad7be3e38"
   },
   "outputs": [
    {
     "name": "stdout",
     "output_type": "stream",
     "text": [
      "Number of houses with a death: 369\n",
      "Number of houses without a death: 1483\n",
      "Number of houses near the Broad Street Pump: 406\n",
      "Number of houses far from the Broad Street Pump: 1446\n",
      "Total number of houses: 1852\n"
     ]
    }
   ],
   "source": [
    "total_deaths = sum(house_data['deaths'] >= 1)\n",
    "\n",
    "total_nondeaths = sum(house_data['deaths'] == 0)\n",
    "\n",
    "total_near_pump = sum(house_data['dis_bspump'] <= 140)\n",
    "\n",
    "total_far_pump = sum(house_data['dis_bspump'] > 140)\n",
    "\n",
    "total_houses = total_near_pump + total_far_pump\n",
    "\n",
    "\n",
    "print(f\"Number of houses with a death: {total_deaths}\")\n",
    "print(f\"Number of houses without a death: {total_nondeaths}\")\n",
    "print(f\"Number of houses near the Broad Street Pump: {total_near_pump}\")\n",
    "print(f\"Number of houses far from the Broad Street Pump: {total_far_pump}\")\n",
    "print(f\"Total number of houses: {total_houses}\")"
   ]
  },
  {
   "cell_type": "markdown",
   "id": "3780246b-45b7-4d4d-80b1-a5c37565ecd0",
   "metadata": {
    "id": "3780246b-45b7-4d4d-80b1-a5c37565ecd0"
   },
   "source": [
    "### Building the Null Contingency Table\n",
    "\n",
    "We now need to construct the contingency table under the null hypothesis. In other words, **how many deaths and nondeaths we would expect if there was no relationship between sewers and cholera**.\n",
    "\n",
    "Remember, we can automate the calculation for each of the four groups using the following equation:\n",
    "\n",
    "$$expected \\ value = {row \\ total \\times column \\ total \\over grand \\ total}$$\n",
    "\n"
   ]
  },
  {
   "cell_type": "code",
   "execution_count": 35,
   "id": "9054671f",
   "metadata": {},
   "outputs": [
    {
     "name": "stdout",
     "output_type": "stream",
     "text": [
      "Expected houses near a pump with a death: 80\n",
      "Expected houses near a pump without a death: 325\n",
      "Expected houses far from the Broad Street Pump with a death: 288\n",
      "Expected houses far from the Broad Street Pump without a death: 1157\n"
     ]
    }
   ],
   "source": [
    "# round() turns our calculation into a whole number\n",
    "\n",
    "exp_near_pump_deaths = int(total_deaths * total_near_pump / total_houses)\n",
    "\n",
    "exp_near_pump_nondeaths = int(total_nondeaths * total_near_pump / total_houses)\n",
    "\n",
    "exp_far_pump_deaths = int(total_deaths * total_far_pump / total_houses)\n",
    "\n",
    "exp_far_pump_nondeaths = int(total_nondeaths * total_far_pump / total_houses)\n",
    "\n",
    "print(f\"Expected houses near a pump with a death: {exp_near_pump_deaths}\")\n",
    "print(f\"Expected houses near a pump without a death: {exp_near_pump_nondeaths}\")\n",
    "print(f\"Expected houses far from the Broad Street Pump with a death: {exp_far_pump_deaths}\")\n",
    "print(f\"Expected houses far from the Broad Street Pump without a death: {exp_far_pump_nondeaths}\")\n"
   ]
  },
  {
   "cell_type": "code",
   "execution_count": 36,
   "id": "e048aa3d-dad4-469a-b021-4a6a71ee6e96",
   "metadata": {
    "id": "e048aa3d-dad4-469a-b021-4a6a71ee6e96"
   },
   "outputs": [],
   "source": [
    "# Now let's put it all together into a contingency table with the following shape!\n",
    "\n",
    "def visualize_contingency_table(contingency_table, top_labels, left_labels):\n",
    "    # print(\"\\t\\t  Close | Far \")\n",
    "    print('{:<15s} {:<15s} {:<20s}'.format(top_labels[0], top_labels[1], top_labels[2]))\n",
    "\n",
    "    i = 0\n",
    "    for line in contingency_table:\n",
    "        print('{:<15s} {:<15d} {:<20d}'.format(left_labels[i], contingency_table[i][0], contingency_table[i][1]))\n",
    "        i += 1\n",
    "\n",
    "top_labels = [\" \", \"Near BSP\", \"Far from BSP\"]\n",
    "left_labels = [\"Deaths\", \"Non Deaths\", \"Total\"]\n"
   ]
  },
  {
   "cell_type": "code",
   "execution_count": 37,
   "id": "9ce067c0-3f93-4503-bef6-42621d2172e1",
   "metadata": {
    "id": "9ce067c0-3f93-4503-bef6-42621d2172e1"
   },
   "outputs": [
    {
     "name": "stdout",
     "output_type": "stream",
     "text": [
      "Expected (Null) Contingency Table:\n",
      "                Near BSP        Far from BSP        \n",
      "Deaths          80              288                 \n",
      "Non Deaths      325             1157                \n"
     ]
    }
   ],
   "source": [
    "contingency_table = [\n",
    "    [exp_near_pump_deaths, exp_far_pump_deaths],\n",
    "    [exp_near_pump_nondeaths, exp_far_pump_nondeaths]\n",
    "]\n",
    "\n",
    "print(\"Expected (Null) Contingency Table:\")\n",
    "visualize_contingency_table(contingency_table, top_labels, left_labels)"
   ]
  },
  {
   "cell_type": "markdown",
   "id": "ab5c4125-ae3b-4b9a-b90f-ee543d090351",
   "metadata": {
    "id": "ab5c4125-ae3b-4b9a-b90f-ee543d090351"
   },
   "source": [
    "### Building the Observed Contingency Table"
   ]
  },
  {
   "cell_type": "code",
   "execution_count": 38,
   "id": "4c0f70e8-94eb-49e7-a818-aa9c9179cf82",
   "metadata": {
    "id": "4c0f70e8-94eb-49e7-a818-aa9c9179cf82",
    "tags": []
   },
   "outputs": [
    {
     "name": "stdout",
     "output_type": "stream",
     "text": [
      "Observed houses near the Broad Street Pump with a death: 207\n",
      "Observed houses near the Broad Street Pump without a death: 199\n",
      "Observed houses far from the Broad Street Pump with a death: 162\n",
      "Observed houses far from the Broad Street Pump without a death: 1284\n"
     ]
    }
   ],
   "source": [
    "obs_near_pump_deaths = sum((house_data.deaths != 0) & (house_data.dis_bspump <= 140))\n",
    "\n",
    "obs_near_pump_nondeaths = sum((house_data.deaths == 0) & (house_data.dis_bspump <= 140))\n",
    "\n",
    "obs_far_pump_deaths = sum((house_data.deaths != 0) & (house_data.dis_bspump > 140))\n",
    "\n",
    "obs_far_pump_nondeaths = sum((house_data.deaths == 0) & (house_data.dis_bspump > 140))\n",
    "\n",
    "print(f\"Observed houses near the Broad Street Pump with a death: {obs_near_pump_deaths}\")\n",
    "print(f\"Observed houses near the Broad Street Pump without a death: {obs_near_pump_nondeaths}\")\n",
    "print(f\"Observed houses far from the Broad Street Pump with a death: {obs_far_pump_deaths}\")\n",
    "print(f\"Observed houses far from the Broad Street Pump without a death: {obs_far_pump_nondeaths}\")\n"
   ]
  },
  {
   "cell_type": "code",
   "execution_count": 39,
   "id": "4e7a4486-c06d-46e5-9965-31e14e0cdfc1",
   "metadata": {
    "id": "4e7a4486-c06d-46e5-9965-31e14e0cdfc1"
   },
   "outputs": [
    {
     "name": "stdout",
     "output_type": "stream",
     "text": [
      "Observed Contingency Table:\n",
      "                Near BSP        Far from BSP        \n",
      "Deaths          207             162                 \n",
      "Non Deaths      199             1284                \n"
     ]
    }
   ],
   "source": [
    "contingency_table = [\n",
    "    [obs_near_pump_deaths, obs_far_pump_deaths],\n",
    "    [obs_near_pump_nondeaths, obs_far_pump_nondeaths]\n",
    "] \n",
    "\n",
    "print(\"Observed Contingency Table:\")\n",
    "visualize_contingency_table(contingency_table, top_labels, left_labels)"
   ]
  },
  {
   "cell_type": "markdown",
   "id": "045571d9-f59c-4141-af95-00f7e05245e4",
   "metadata": {
    "id": "045571d9-f59c-4141-af95-00f7e05245e4"
   },
   "source": [
    "<img src=\"https://github.com/uchicago-dsi/2023-data4all/blob/main/imgs/pencil.png?raw=true\" alt=\"Drawing\" align=left width=20px/> <font size=4> **Journal 4f:** On First Glance</font>\n",
    "\n",
    "**Does there appear to be a significant difference between the expected number under the null hypothesis and the observed numbers?**\n",
    "\n",
    "> Write your answer here!\n"
   ]
  },
  {
   "cell_type": "markdown",
   "id": "2b997414-ba4a-4fef-a1bd-69bfa512a3d7",
   "metadata": {
    "id": "2b997414-ba4a-4fef-a1bd-69bfa512a3d7"
   },
   "source": [
    "### Calculating the p-value\n",
    "\n",
    "There is a difference between the expected and observed contingency tables, but is it large enough to reject the null hypothesis and accept the alternative that living close to a sewer is associated with higher cholera rates? The p-value will tell us the chance that the difference we are seeing could be due to random chance."
   ]
  },
  {
   "cell_type": "code",
   "execution_count": 40,
   "id": "2e732370-a8af-4fe3-be9d-84fef0568876",
   "metadata": {
    "id": "2e732370-a8af-4fe3-be9d-84fef0568876",
    "tags": []
   },
   "outputs": [
    {
     "name": "stdout",
     "output_type": "stream",
     "text": [
      "p-value: 0.00000\n"
     ]
    }
   ],
   "source": [
    "# Import the scipy library for running Chi-square evaluations\n",
    "from scipy.stats import chi2_contingency\n",
    "\n",
    "# ... when doing data science in Python, it is common convention to use\n",
    "#.    \"_\" characters to mark variables whose values we don't need.\n",
    "_, p_value, _, _ = chi2_contingency(contingency_table)\n",
    "print(f\"p-value: {p_value:.5f}\")"
   ]
  },
  {
   "cell_type": "markdown",
   "id": "ddb06a7f-0ea8-46ca-a11c-f3b96f3037b5",
   "metadata": {
    "id": "ddb06a7f-0ea8-46ca-a11c-f3b96f3037b5"
   },
   "source": [
    "<img src=\"https://github.com/uchicago-dsi/2023-data4all/blob/main/imgs/pencil.png?raw=true\" alt=\"Drawing\" align=left width=20px/> <font size=4> **Journal 4g:** Interpreting p-value for $Chi^2$ test: Sewers</font>\n",
    "\n",
    "**Based on the p-value of your $Chi^2$ test, can you reject the null hypothesis (there is no association between living close to the Broad Street Pump and dying from cholera) and accept the alternative (there is an association between living close to the Broad Street Pump and dying from cholera)?**\n",
    "\n",
    "> Write your answer here!"
   ]
  },
  {
   "cell_type": "markdown",
   "id": "2ac2091d-9016-4a2d-987b-a344502ab8e1",
   "metadata": {
    "id": "2ac2091d-9016-4a2d-987b-a344502ab8e1"
   },
   "source": [
    "### Visualizing the Data\n",
    "\n",
    "An important part of data science is not only determining statistical significance of hypotheses, but also communicating your findings to people without a statistics background.\n",
    "\n",
    "Imagine reading a newspaper headline (like below) that says ’The p-value was below 0.05’... the average person does not know what this means! Visualizing your results is an important step in convincing others that your evidence is compelling! In the following, we create (and interpret) data visualizations that make it easier to understand your statistical results.\n",
    "\n",
    "<br>\n",
    "\n",
    "<table><tr>\n",
    "    <td> <img src=\"https://raw.githubusercontent.com/uchicago-dsi/2023-data4all/main/imgs/funny_paper.jpeg?raw=true\" alt=\"Drawing\" width=\"500\"> </td>\n",
    "</tr></table>\n",
    "\n",
    "\n",
    "We first explore a **histogram** -- a type of bar graph used to show differences in the frequency (or count) of various events. (In this case, the events are deaths and non-deaths of people close and far from the sewer)."
   ]
  },
  {
   "cell_type": "code",
   "execution_count": 41,
   "id": "a9354c1a-2b80-41cf-bfd3-b509fe2c4d78",
   "metadata": {
    "id": "a9354c1a-2b80-41cf-bfd3-b509fe2c4d78"
   },
   "outputs": [
    {
     "data": {
      "text/plain": [
       "<matplotlib.legend.Legend at 0x7f9a621d9fd0>"
      ]
     },
     "execution_count": 41,
     "metadata": {},
     "output_type": "execute_result"
    },
    {
     "data": {
      "image/png": "[encoded data removed]",
      "text/plain": [
       "<Figure size 432x288 with 1 Axes>"
      ]
     },
     "metadata": {
      "needs_background": "light"
     },
     "output_type": "display_data"
    }
   ],
   "source": [
    "# Histogram\n",
    "\n",
    "# Let's calculate the percentages of deaths that are 'close' versus 'far'.\n",
    "#    Close Deaths + Far Deaths should sum to 1!\n",
    "# (then we can do the same for non-graphs)\n",
    "obs_near_pump_deaths_pct = obs_near_pump_deaths / (obs_near_pump_deaths + obs_far_pump_deaths) * 100\n",
    "obs_far_pump_deaths_pct = 100 - obs_near_pump_deaths_pct\n",
    "\n",
    "obs_near_pump_nondeaths_pct = obs_near_pump_nondeaths / (obs_near_pump_nondeaths + obs_far_pump_nondeaths) * 100\n",
    "obs_far_pump_nondeaths_pct = 100 - obs_near_pump_nondeaths_pct\n",
    "\n",
    "\n",
    "\n",
    "# 1. Let's first view the CLOSE deaths vs nondeaths.\n",
    "plt.bar(x=['Deaths Near', 'Deaths Far'],\n",
    "        height=[obs_near_pump_deaths_pct, obs_far_pump_deaths_pct], color='purple', label='Deaths')\n",
    "\n",
    "# 2. Let's first view the FAR deaths vs nondeaths.\n",
    "plt.bar(x=['Nondeaths Near', 'Nondeaths Far'],\n",
    "        height=[obs_near_pump_nondeaths_pct, obs_far_pump_nondeaths_pct], color='gold', label='Nondeaths')\n",
    "plt.ylim((0,100))\n",
    "plt.ylabel(\"Percentage of Deaths or Nondeaths\")\n",
    "plt.title(\"Deaths and Nondeaths (Close and Far from Broad Street Pump)\")\n",
    "plt.legend()"
   ]
  },
  {
   "cell_type": "markdown",
   "id": "ff66aeb3-f693-4f10-80dd-206b6bed252c",
   "metadata": {
    "id": "ff66aeb3-f693-4f10-80dd-206b6bed252c"
   },
   "source": [
    "<img src=\"https://github.com/uchicago-dsi/2023-data4all/blob/main/imgs/pencil.png?raw=true\" alt=\"Drawing\" align=left width=20px/> <font size=4> **Journal 4h:** The 3 Second Rule</font>\n",
    "\n",
    "The 3 Second Rule states that one gets 3 secons to grab someone's attention and flag the take-home point of a data visualization: https://stephanieevergreen.com/the-3-second-rule/\n",
    "\n",
    "**What does the histogram communicate to you? Does it follow the 3 Second Rule?**\n",
    "\n",
    "> Write your answer here!\n",
    "\n",
    "<br>\n",
    "\n"
   ]
  },
  {
   "cell_type": "markdown",
   "id": "b1e10797",
   "metadata": {
    "id": "b1e10797"
   },
   "source": [
    "## 4.5: Reflection\n",
    "<img src=\"https://github.com/uchicago-dsi/2023-data4all/blob/main/imgs/pencil.png?raw=true\" alt=\"Drawing\" align=left width=20px/> <font size=4>**Journal 4i:** Reflection </font>\n",
    "\n",
    "**What do you understand better after this notebook than before?**\n",
    "> Write your answer here!\n",
    "\n",
    "**Please fill out the Notebook survey here!**\n",
    "> https://forms.gle/54KHEbPGsRxQU3Bh9\n",
    "\n",
    "<br>\n",
    "\n",
    "--------------------------------\n",
    "\n",
    "<br>\n",
    "\n",
    "<img src=\"https://github.com/uchicago-dsi/2023-data4all/blob/main/imgs/save-icon.jpeg?raw=true\" alt=\"Drawing\" align=left width=20px/> <font size=\"4\">     **&ensp;&ensp;&ensp;Last step: save your work!** </font>"
   ]
  },
  {
   "cell_type": "code",
   "execution_count": null,
   "id": "42b624e1",
   "metadata": {
    "id": "42b624e1"
   },
   "outputs": [],
   "source": []
  }
 ],
 "metadata": {
  "colab": {
   "provenance": []
  },
  "kernelspec": {
   "display_name": "Python 3 (ipykernel)",
   "language": "python",
   "name": "python3"
  },
  "language_info": {
   "codemirror_mode": {
    "name": "ipython",
    "version": 3
   },
   "file_extension": ".py",
   "mimetype": "text/x-python",
   "name": "python",
   "nbconvert_exporter": "python",
   "pygments_lexer": "ipython3",
   "version": "3.9.12"
  }
 },
 "nbformat": 4,
 "nbformat_minor": 5
}
